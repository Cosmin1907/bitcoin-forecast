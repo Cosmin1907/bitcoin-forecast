{
  "cells": [
    {
      "cell_type": "markdown",
      "metadata": {
        "id": "0aStgWSO0E0E"
      },
      "source": [
        "# **Regression**"
      ]
    },
    {
      "cell_type": "markdown",
      "metadata": {
        "id": "1eLEkw5O0ECa"
      },
      "source": [
        "## Objectives\n",
        "\n",
        "* Fit and evaluate a regression model to predict the closing price of Bitcoin.\n",
        "\n",
        "## Inputs\n",
        "\n",
        "* outputs/datasets/cleaned/BTCAugmented.csv\n",
        "\n",
        "## Outputs\n",
        "\n",
        "* Train set (features and target)\n",
        "* Test set (features and target)\n",
        "* ML pipeline to predict Close\n",
        "* Feature Importance Plot\n"
      ]
    },
    {
      "cell_type": "markdown",
      "metadata": {
        "id": "9uWZXH9LwoQg"
      },
      "source": [
        "---"
      ]
    },
    {
      "cell_type": "markdown",
      "metadata": {
        "id": "cqP-UeN-z3i2"
      },
      "source": [
        "# Change working directory"
      ]
    },
    {
      "cell_type": "markdown",
      "metadata": {
        "id": "aOGIGS-uz3i2"
      },
      "source": [
        "We need to change the working directory from its current folder to its parent folder\n",
        "* We access the current directory with os.getcwd()"
      ]
    },
    {
      "cell_type": "code",
      "execution_count": 1,
      "metadata": {
        "id": "wZfF_j-Bz3i4",
        "outputId": "66943449-1436-4c3d-85c7-b85f9f78349b"
      },
      "outputs": [
        {
          "data": {
            "text/plain": [
              "'/workspace/bitcoin-forecast/jupyter_notebooks'"
            ]
          },
          "execution_count": 1,
          "metadata": {},
          "output_type": "execute_result"
        }
      ],
      "source": [
        "import os\n",
        "current_dir = os.getcwd()\n",
        "current_dir"
      ]
    },
    {
      "cell_type": "markdown",
      "metadata": {
        "id": "9MWW8E7lz3i7"
      },
      "source": [
        "We want to make the parent of the current directory the new current directory\n",
        "* os.path.dirname() gets the parent directory\n",
        "* os.chir() defines the new current directory"
      ]
    },
    {
      "cell_type": "code",
      "execution_count": 2,
      "metadata": {
        "id": "TwHsQRWjz3i9",
        "outputId": "86849db3-cd2f-4cc5-ebb8-2d0caafa1a2c"
      },
      "outputs": [
        {
          "name": "stdout",
          "output_type": "stream",
          "text": [
            "You set a new current directory\n"
          ]
        }
      ],
      "source": [
        "os.chdir(os.path.dirname(current_dir))\n",
        "print(\"You set a new current directory\")"
      ]
    },
    {
      "cell_type": "markdown",
      "metadata": {
        "id": "M_xPk_Ijz3i-"
      },
      "source": [
        "Confirm the new current directory"
      ]
    },
    {
      "cell_type": "code",
      "execution_count": 3,
      "metadata": {
        "id": "vz3S-_kjz3jA",
        "outputId": "00b79ae4-75d0-4a96-d193-ac9ef9847ea2"
      },
      "outputs": [
        {
          "data": {
            "text/plain": [
              "'/workspace/bitcoin-forecast'"
            ]
          },
          "execution_count": 3,
          "metadata": {},
          "output_type": "execute_result"
        }
      ],
      "source": [
        "current_dir = os.getcwd()\n",
        "current_dir"
      ]
    },
    {
      "cell_type": "markdown",
      "metadata": {
        "id": "-mavJ8DibrcQ"
      },
      "source": [
        "# Load Cleaned Data"
      ]
    },
    {
      "cell_type": "markdown",
      "metadata": {},
      "source": [
        "Section 1 content"
      ]
    },
    {
      "cell_type": "code",
      "execution_count": 4,
      "metadata": {},
      "outputs": [
        {
          "name": "stdout",
          "output_type": "stream",
          "text": [
            "(2650, 15)\n"
          ]
        },
        {
          "data": {
            "text/html": [
              "<div>\n",
              "<style scoped>\n",
              "    .dataframe tbody tr th:only-of-type {\n",
              "        vertical-align: middle;\n",
              "    }\n",
              "\n",
              "    .dataframe tbody tr th {\n",
              "        vertical-align: top;\n",
              "    }\n",
              "\n",
              "    .dataframe thead th {\n",
              "        text-align: right;\n",
              "    }\n",
              "</style>\n",
              "<table border=\"1\" class=\"dataframe\">\n",
              "  <thead>\n",
              "    <tr style=\"text-align: right;\">\n",
              "      <th></th>\n",
              "      <th>open</th>\n",
              "      <th>high</th>\n",
              "      <th>low</th>\n",
              "      <th>close</th>\n",
              "      <th>Volume BTC</th>\n",
              "      <th>Volume USD</th>\n",
              "      <th>price mean</th>\n",
              "      <th>upper shadow</th>\n",
              "      <th>lower shadow</th>\n",
              "      <th>spread</th>\n",
              "      <th>trade</th>\n",
              "      <th>12EMA</th>\n",
              "      <th>26EMA</th>\n",
              "      <th>MACD</th>\n",
              "      <th>buy/sell</th>\n",
              "    </tr>\n",
              "    <tr>\n",
              "      <th>date</th>\n",
              "      <th></th>\n",
              "      <th></th>\n",
              "      <th></th>\n",
              "      <th></th>\n",
              "      <th></th>\n",
              "      <th></th>\n",
              "      <th></th>\n",
              "      <th></th>\n",
              "      <th></th>\n",
              "      <th></th>\n",
              "      <th></th>\n",
              "      <th></th>\n",
              "      <th></th>\n",
              "      <th></th>\n",
              "      <th></th>\n",
              "    </tr>\n",
              "  </thead>\n",
              "  <tbody>\n",
              "    <tr>\n",
              "      <th>2014-11-29</th>\n",
              "      <td>376.42</td>\n",
              "      <td>386.60</td>\n",
              "      <td>372.25</td>\n",
              "      <td>376.72</td>\n",
              "      <td>2746157.05</td>\n",
              "      <td>7245.19</td>\n",
              "      <td>377.9975</td>\n",
              "      <td>9.88</td>\n",
              "      <td>4.17</td>\n",
              "      <td>14.35</td>\n",
              "      <td>0.30</td>\n",
              "      <td>376.347692</td>\n",
              "      <td>376.312593</td>\n",
              "      <td>0.035100</td>\n",
              "      <td>1</td>\n",
              "    </tr>\n",
              "    <tr>\n",
              "      <th>2014-11-30</th>\n",
              "      <td>376.57</td>\n",
              "      <td>381.99</td>\n",
              "      <td>373.32</td>\n",
              "      <td>373.34</td>\n",
              "      <td>1145566.61</td>\n",
              "      <td>3046.33</td>\n",
              "      <td>376.3050</td>\n",
              "      <td>5.42</td>\n",
              "      <td>0.02</td>\n",
              "      <td>8.67</td>\n",
              "      <td>-3.23</td>\n",
              "      <td>375.884970</td>\n",
              "      <td>376.092401</td>\n",
              "      <td>-0.207430</td>\n",
              "      <td>0</td>\n",
              "    </tr>\n",
              "    <tr>\n",
              "      <th>2014-12-01</th>\n",
              "      <td>376.40</td>\n",
              "      <td>382.31</td>\n",
              "      <td>373.03</td>\n",
              "      <td>378.39</td>\n",
              "      <td>2520662.37</td>\n",
              "      <td>6660.56</td>\n",
              "      <td>377.5325</td>\n",
              "      <td>3.92</td>\n",
              "      <td>3.37</td>\n",
              "      <td>9.28</td>\n",
              "      <td>1.99</td>\n",
              "      <td>376.270360</td>\n",
              "      <td>376.262593</td>\n",
              "      <td>0.007766</td>\n",
              "      <td>1</td>\n",
              "    </tr>\n",
              "    <tr>\n",
              "      <th>2014-12-02</th>\n",
              "      <td>378.39</td>\n",
              "      <td>382.86</td>\n",
              "      <td>375.23</td>\n",
              "      <td>379.25</td>\n",
              "      <td>2593576.46</td>\n",
              "      <td>6832.53</td>\n",
              "      <td>378.9325</td>\n",
              "      <td>3.61</td>\n",
              "      <td>3.16</td>\n",
              "      <td>7.63</td>\n",
              "      <td>0.86</td>\n",
              "      <td>376.728766</td>\n",
              "      <td>376.483883</td>\n",
              "      <td>0.244883</td>\n",
              "      <td>1</td>\n",
              "    </tr>\n",
              "    <tr>\n",
              "      <th>2014-12-03</th>\n",
              "      <td>379.25</td>\n",
              "      <td>383.00</td>\n",
              "      <td>374.23</td>\n",
              "      <td>376.67</td>\n",
              "      <td>2998357.92</td>\n",
              "      <td>7908.29</td>\n",
              "      <td>378.2875</td>\n",
              "      <td>3.75</td>\n",
              "      <td>2.44</td>\n",
              "      <td>8.77</td>\n",
              "      <td>-2.58</td>\n",
              "      <td>376.719725</td>\n",
              "      <td>376.497669</td>\n",
              "      <td>0.222056</td>\n",
              "      <td>0</td>\n",
              "    </tr>\n",
              "  </tbody>\n",
              "</table>\n",
              "</div>"
            ],
            "text/plain": [
              "              open    high     low   close  Volume BTC  Volume USD  \\\n",
              "date                                                                 \n",
              "2014-11-29  376.42  386.60  372.25  376.72  2746157.05     7245.19   \n",
              "2014-11-30  376.57  381.99  373.32  373.34  1145566.61     3046.33   \n",
              "2014-12-01  376.40  382.31  373.03  378.39  2520662.37     6660.56   \n",
              "2014-12-02  378.39  382.86  375.23  379.25  2593576.46     6832.53   \n",
              "2014-12-03  379.25  383.00  374.23  376.67  2998357.92     7908.29   \n",
              "\n",
              "            price mean  upper shadow  lower shadow  spread  trade       12EMA  \\\n",
              "date                                                                            \n",
              "2014-11-29    377.9975          9.88          4.17   14.35   0.30  376.347692   \n",
              "2014-11-30    376.3050          5.42          0.02    8.67  -3.23  375.884970   \n",
              "2014-12-01    377.5325          3.92          3.37    9.28   1.99  376.270360   \n",
              "2014-12-02    378.9325          3.61          3.16    7.63   0.86  376.728766   \n",
              "2014-12-03    378.2875          3.75          2.44    8.77  -2.58  376.719725   \n",
              "\n",
              "                 26EMA      MACD  buy/sell  \n",
              "date                                        \n",
              "2014-11-29  376.312593  0.035100         1  \n",
              "2014-11-30  376.092401 -0.207430         0  \n",
              "2014-12-01  376.262593  0.007766         1  \n",
              "2014-12-02  376.483883  0.244883         1  \n",
              "2014-12-03  376.497669  0.222056         0  "
            ]
          },
          "execution_count": 4,
          "metadata": {},
          "output_type": "execute_result"
        }
      ],
      "source": [
        "import numpy as np\n",
        "import pandas as pd\n",
        "df = (pd.read_csv(\"outputs/datasets/cleaned/BTCAugmentedV2.csv\", index_col='date', parse_dates=True))\n",
        "\n",
        "print(df.shape)\n",
        "df.head(5)"
      ]
    },
    {
      "cell_type": "markdown",
      "metadata": {
        "id": "ZY3l0-AxO93d"
      },
      "source": [
        "---"
      ]
    },
    {
      "cell_type": "markdown",
      "metadata": {
        "id": "uFQo3ycuO-v6"
      },
      "source": [
        "# MP Pipeline: Regressor"
      ]
    },
    {
      "cell_type": "markdown",
      "metadata": {},
      "source": [
        "## Create ML pipeline"
      ]
    },
    {
      "cell_type": "code",
      "execution_count": 10,
      "metadata": {},
      "outputs": [],
      "source": [
        "from sklearn.pipeline import Pipeline\n",
        "from feature_engine import transformation as vt\n",
        "\n",
        "# Feature Engineering\n",
        "from feature_engine.encoding import OrdinalEncoder\n",
        "from feature_engine.selection import SmartCorrelatedSelection\n",
        "\n",
        "# Feat Scaling\n",
        "from sklearn.preprocessing import StandardScaler\n",
        "\n",
        "# Feat Selection\n",
        "from sklearn.feature_selection import SelectFromModel\n",
        "\n",
        "# ML algorithms\n",
        "from sklearn.tree import DecisionTreeRegressor\n",
        "from xgboost import XGBRegressor\n",
        "from sklearn.ensemble import GradientBoostingRegressor, RandomForestRegressor\n",
        "from sklearn.linear_model import LinearRegression\n",
        "from sklearn.ensemble import AdaBoostRegressor\n",
        "from sklearn.ensemble import ExtraTreesRegressor\n",
        "\n",
        "\n",
        "def PipelineOptimization(model):\n",
        "    pipeline_base = Pipeline([\n",
        "\n",
        "        ('numerical_transformation', vt.YeoJohnsonTransformer(variables=['open', 'high', 'low', 'Volume BTC', 'Volume USD', \n",
        "                         'price mean', 'upper shadow', 'lower shadow', \n",
        "                         'spread', '12EMA', '26EMA'])),\n",
        "\n",
        "\n",
        "        (\"SmartCorrelatedSelection\", SmartCorrelatedSelection(variables=None,\n",
        "         method=\"spearman\", threshold=0.6, selection_method=\"variance\")),\n",
        "\n",
        "        (\"feat_scaling\", StandardScaler()),\n",
        "\n",
        "        (\"feat_selection\",  SelectFromModel(model)),\n",
        "\n",
        "        (\"model\", model),\n",
        "\n",
        "    ])\n",
        "\n",
        "    return pipeline_base"
      ]
    },
    {
      "cell_type": "markdown",
      "metadata": {},
      "source": [
        "Custom Class for hyperparameter optimisation"
      ]
    },
    {
      "cell_type": "code",
      "execution_count": 11,
      "metadata": {},
      "outputs": [],
      "source": [
        "from sklearn.model_selection import GridSearchCV\n",
        "\n",
        "\n",
        "class HyperparameterOptimizationSearch:\n",
        "\n",
        "    def __init__(self, models, params):\n",
        "        self.models = models\n",
        "        self.params = params\n",
        "        self.keys = models.keys()\n",
        "        self.grid_searches = {}\n",
        "\n",
        "    def fit(self, X, y, cv, n_jobs, verbose=1, scoring=None, refit=False):\n",
        "        for key in self.keys:\n",
        "            print(f\"\\nRunning GridSearchCV for {key} \\n\")\n",
        "            model = PipelineOptimization(self.models[key])\n",
        "\n",
        "            params = self.params[key]\n",
        "            gs = GridSearchCV(model, params, cv=cv, n_jobs=n_jobs,\n",
        "                              verbose=verbose, scoring=scoring)\n",
        "            gs.fit(X, y)\n",
        "            self.grid_searches[key] = gs\n",
        "\n",
        "    def score_summary(self, sort_by='mean_score'):\n",
        "        def row(key, scores, params):\n",
        "            d = {\n",
        "                'estimator': key,\n",
        "                'min_score': min(scores),\n",
        "                'max_score': max(scores),\n",
        "                'mean_score': np.mean(scores),\n",
        "                'std_score': np.std(scores),\n",
        "            }\n",
        "            return pd.Series({**params, **d})\n",
        "\n",
        "        rows = []\n",
        "        for k in self.grid_searches:\n",
        "            params = self.grid_searches[k].cv_results_['params']\n",
        "            scores = []\n",
        "            for i in range(self.grid_searches[k].cv):\n",
        "                key = \"split{}_test_score\".format(i)\n",
        "                r = self.grid_searches[k].cv_results_[key]\n",
        "                scores.append(r.reshape(len(params), 1))\n",
        "\n",
        "            all_scores = np.hstack(scores)\n",
        "            for p, s in zip(params, all_scores):\n",
        "                rows.append((row(k, s, p)))\n",
        "\n",
        "        df = pd.concat(rows, axis=1).T.sort_values([sort_by], ascending=False)\n",
        "\n",
        "        columns = ['estimator', 'min_score',\n",
        "                   'mean_score', 'max_score', 'std_score']\n",
        "        columns = columns + [c for c in df.columns if c not in columns]\n",
        "\n",
        "        return df[columns], self.grid_searches"
      ]
    },
    {
      "cell_type": "markdown",
      "metadata": {},
      "source": [
        "## Split Train Test Set"
      ]
    },
    {
      "cell_type": "code",
      "execution_count": 12,
      "metadata": {},
      "outputs": [
        {
          "name": "stdout",
          "output_type": "stream",
          "text": [
            "* Train set: (2120, 14) (2120,) \n",
            "* Test set: (530, 14) (530,)\n"
          ]
        }
      ],
      "source": [
        "from sklearn.model_selection import train_test_split\n",
        "X_train, X_test, y_train, y_test = train_test_split(\n",
        "    df.drop(['close'], axis=1),\n",
        "    df['close'],\n",
        "    test_size=0.2,\n",
        "    random_state=0\n",
        ")\n",
        "\n",
        "print(\"* Train set:\", X_train.shape, y_train.shape,\n",
        "      \"\\n* Test set:\",  X_test.shape, y_test.shape)"
      ]
    },
    {
      "cell_type": "markdown",
      "metadata": {},
      "source": [
        "## Grid Search CV - Sklearn"
      ]
    },
    {
      "cell_type": "markdown",
      "metadata": {},
      "source": [
        "Use default hyperparameters to find most suitable algorithm"
      ]
    },
    {
      "cell_type": "code",
      "execution_count": 13,
      "metadata": {},
      "outputs": [],
      "source": [
        "models_quick_search = {\n",
        "    'LinearRegression': LinearRegression(),\n",
        "    \"DecisionTreeRegressor\": DecisionTreeRegressor(random_state=0),\n",
        "    \"RandomForestRegressor\": RandomForestRegressor(random_state=0),\n",
        "    \"ExtraTreesRegressor\": ExtraTreesRegressor(random_state=0),\n",
        "    \"AdaBoostRegressor\": AdaBoostRegressor(random_state=0),\n",
        "    \"GradientBoostingRegressor\": GradientBoostingRegressor(random_state=0),\n",
        "    \"XGBRegressor\": XGBRegressor(random_state=0),\n",
        "}\n",
        "\n",
        "params_quick_search = {\n",
        "    'LinearRegression': {},\n",
        "    \"DecisionTreeRegressor\": {},\n",
        "    \"RandomForestRegressor\": {},\n",
        "    \"ExtraTreesRegressor\": {},\n",
        "    \"AdaBoostRegressor\": {},\n",
        "    \"GradientBoostingRegressor\": {},\n",
        "    \"XGBRegressor\": {},\n",
        "}"
      ]
    },
    {
      "cell_type": "markdown",
      "metadata": {},
      "source": [
        "Do a hyperparameter optimisation search using default hyperparameters"
      ]
    },
    {
      "cell_type": "code",
      "execution_count": 14,
      "metadata": {},
      "outputs": [
        {
          "name": "stdout",
          "output_type": "stream",
          "text": [
            "\n",
            "Running GridSearchCV for LinearRegression \n",
            "\n",
            "Fitting 5 folds for each of 1 candidates, totalling 5 fits\n",
            "\n",
            "Running GridSearchCV for DecisionTreeRegressor \n",
            "\n",
            "Fitting 5 folds for each of 1 candidates, totalling 5 fits\n",
            "\n",
            "Running GridSearchCV for RandomForestRegressor \n",
            "\n",
            "Fitting 5 folds for each of 1 candidates, totalling 5 fits\n",
            "\n",
            "Running GridSearchCV for ExtraTreesRegressor \n",
            "\n",
            "Fitting 5 folds for each of 1 candidates, totalling 5 fits\n",
            "\n",
            "Running GridSearchCV for AdaBoostRegressor \n",
            "\n",
            "Fitting 5 folds for each of 1 candidates, totalling 5 fits\n",
            "\n",
            "Running GridSearchCV for GradientBoostingRegressor \n",
            "\n",
            "Fitting 5 folds for each of 1 candidates, totalling 5 fits\n",
            "\n",
            "Running GridSearchCV for XGBRegressor \n",
            "\n",
            "Fitting 5 folds for each of 1 candidates, totalling 5 fits\n"
          ]
        }
      ],
      "source": [
        "search = HyperparameterOptimizationSearch(models=models_quick_search, params=params_quick_search)\n",
        "search.fit(X_train, y_train, scoring='r2', n_jobs=-1, cv=5)"
      ]
    },
    {
      "cell_type": "markdown",
      "metadata": {},
      "source": [
        "Check results"
      ]
    },
    {
      "cell_type": "code",
      "execution_count": 15,
      "metadata": {},
      "outputs": [
        {
          "data": {
            "text/html": [
              "<div>\n",
              "<style scoped>\n",
              "    .dataframe tbody tr th:only-of-type {\n",
              "        vertical-align: middle;\n",
              "    }\n",
              "\n",
              "    .dataframe tbody tr th {\n",
              "        vertical-align: top;\n",
              "    }\n",
              "\n",
              "    .dataframe thead th {\n",
              "        text-align: right;\n",
              "    }\n",
              "</style>\n",
              "<table border=\"1\" class=\"dataframe\">\n",
              "  <thead>\n",
              "    <tr style=\"text-align: right;\">\n",
              "      <th></th>\n",
              "      <th>estimator</th>\n",
              "      <th>min_score</th>\n",
              "      <th>mean_score</th>\n",
              "      <th>max_score</th>\n",
              "      <th>std_score</th>\n",
              "    </tr>\n",
              "  </thead>\n",
              "  <tbody>\n",
              "    <tr>\n",
              "      <th>5</th>\n",
              "      <td>GradientBoostingRegressor</td>\n",
              "      <td>0.735414</td>\n",
              "      <td>0.774869</td>\n",
              "      <td>0.819045</td>\n",
              "      <td>0.035448</td>\n",
              "    </tr>\n",
              "    <tr>\n",
              "      <th>2</th>\n",
              "      <td>RandomForestRegressor</td>\n",
              "      <td>0.706472</td>\n",
              "      <td>0.75856</td>\n",
              "      <td>0.805911</td>\n",
              "      <td>0.038643</td>\n",
              "    </tr>\n",
              "    <tr>\n",
              "      <th>3</th>\n",
              "      <td>ExtraTreesRegressor</td>\n",
              "      <td>0.706407</td>\n",
              "      <td>0.749811</td>\n",
              "      <td>0.799592</td>\n",
              "      <td>0.035636</td>\n",
              "    </tr>\n",
              "    <tr>\n",
              "      <th>6</th>\n",
              "      <td>XGBRegressor</td>\n",
              "      <td>0.605743</td>\n",
              "      <td>0.703395</td>\n",
              "      <td>0.782389</td>\n",
              "      <td>0.058332</td>\n",
              "    </tr>\n",
              "    <tr>\n",
              "      <th>1</th>\n",
              "      <td>DecisionTreeRegressor</td>\n",
              "      <td>0.539981</td>\n",
              "      <td>0.609183</td>\n",
              "      <td>0.650462</td>\n",
              "      <td>0.040267</td>\n",
              "    </tr>\n",
              "    <tr>\n",
              "      <th>4</th>\n",
              "      <td>AdaBoostRegressor</td>\n",
              "      <td>0.353095</td>\n",
              "      <td>0.442968</td>\n",
              "      <td>0.497109</td>\n",
              "      <td>0.048486</td>\n",
              "    </tr>\n",
              "    <tr>\n",
              "      <th>0</th>\n",
              "      <td>LinearRegression</td>\n",
              "      <td>0.328743</td>\n",
              "      <td>0.371711</td>\n",
              "      <td>0.394957</td>\n",
              "      <td>0.022542</td>\n",
              "    </tr>\n",
              "  </tbody>\n",
              "</table>\n",
              "</div>"
            ],
            "text/plain": [
              "                   estimator min_score mean_score max_score std_score\n",
              "5  GradientBoostingRegressor  0.735414   0.774869  0.819045  0.035448\n",
              "2      RandomForestRegressor  0.706472    0.75856  0.805911  0.038643\n",
              "3        ExtraTreesRegressor  0.706407   0.749811  0.799592  0.035636\n",
              "6               XGBRegressor  0.605743   0.703395  0.782389  0.058332\n",
              "1      DecisionTreeRegressor  0.539981   0.609183  0.650462  0.040267\n",
              "4          AdaBoostRegressor  0.353095   0.442968  0.497109  0.048486\n",
              "0           LinearRegression  0.328743   0.371711  0.394957  0.022542"
            ]
          },
          "execution_count": 15,
          "metadata": {},
          "output_type": "execute_result"
        }
      ],
      "source": [
        "grid_search_summary, grid_search_pipelines = search.score_summary(sort_by='mean_score')\n",
        "grid_search_summary"
      ]
    },
    {
      "cell_type": "markdown",
      "metadata": {},
      "source": [
        "## Extensive search on the most suitable model to find the best hyperparameter configuration."
      ]
    },
    {
      "cell_type": "markdown",
      "metadata": {},
      "source": [
        "Define model and parameters, for Extensive Search. \n",
        "Adjusted the parameter search ranges based on the best values already obtained during previous attempts\n",
        "* ExtraTreesRegressor was removed in version 2 training"
      ]
    },
    {
      "cell_type": "code",
      "execution_count": 5,
      "metadata": {},
      "outputs": [],
      "source": [
        "from xgboost import XGBRegressor\n",
        "from sklearn.ensemble import GradientBoostingRegressor, RandomForestRegressor, ExtraTreesRegressor\n",
        "\n",
        "models_search = {\n",
        "    \"GradientBoostingRegressor\": GradientBoostingRegressor(random_state=0),\n",
        "    \"RandomForestRegressor\": RandomForestRegressor(random_state=0),\n",
        "}\n",
        "\n",
        "# documentation to help on hyperparameter list: \n",
        "# https://scikit-learn.org/stable/modules/generated/sklearn.ensemble.GradientBoostingRegressor.html\n",
        "# https://scikit-learn.org/stable/modules/generated/sklearn.ensemble.RandomForestRegressor.html\n",
        "# https://scikit-learn.org/stable/modules/generated/sklearn.ensemble.ExtraTreesRegressor.html\n",
        "\n",
        "\n",
        "params_search = {\n",
        "    \"GradientBoostingRegressor\": {\n",
        "        'model__n_estimators': [50, 100, 150],  \n",
        "        'model__learning_rate': [0.05, 0.1, 0.01],  \n",
        "        'model__max_depth': [3, 5],  \n",
        "        'model__subsample': [0.8],  \n",
        "    },\n",
        "    \"RandomForestRegressor\": {\n",
        "        'model__n_estimators': [200, 300, 500],  \n",
        "        'model__max_depth': [5, 10],  \n",
        "        'model__max_features': ['sqrt', 'log2'],  \n",
        "        'model__min_samples_split': [5, 10], \n",
        "        'model__min_samples_leaf': [1, 2],  \n",
        "    },\n",
        "}"
      ]
    },
    {
      "cell_type": "markdown",
      "metadata": {},
      "source": [
        "Extensive GridSearch CV"
      ]
    },
    {
      "cell_type": "code",
      "execution_count": 26,
      "metadata": {},
      "outputs": [
        {
          "name": "stdout",
          "output_type": "stream",
          "text": [
            "\n",
            "Running GridSearchCV for GradientBoostingRegressor \n",
            "\n",
            "Fitting 5 folds for each of 18 candidates, totalling 90 fits\n",
            "\n",
            "Running GridSearchCV for RandomForestRegressor \n",
            "\n",
            "Fitting 5 folds for each of 48 candidates, totalling 240 fits\n"
          ]
        }
      ],
      "source": [
        "search = HyperparameterOptimizationSearch(models=models_search, params=params_search)\n",
        "search.fit(X_train, y_train, scoring = 'r2', n_jobs=-1, cv=5)"
      ]
    },
    {
      "cell_type": "markdown",
      "metadata": {},
      "source": [
        "Check results"
      ]
    },
    {
      "cell_type": "code",
      "execution_count": 27,
      "metadata": {},
      "outputs": [
        {
          "data": {
            "text/html": [
              "<div>\n",
              "<style scoped>\n",
              "    .dataframe tbody tr th:only-of-type {\n",
              "        vertical-align: middle;\n",
              "    }\n",
              "\n",
              "    .dataframe tbody tr th {\n",
              "        vertical-align: top;\n",
              "    }\n",
              "\n",
              "    .dataframe thead th {\n",
              "        text-align: right;\n",
              "    }\n",
              "</style>\n",
              "<table border=\"1\" class=\"dataframe\">\n",
              "  <thead>\n",
              "    <tr style=\"text-align: right;\">\n",
              "      <th></th>\n",
              "      <th>estimator</th>\n",
              "      <th>min_score</th>\n",
              "      <th>mean_score</th>\n",
              "      <th>max_score</th>\n",
              "      <th>std_score</th>\n",
              "      <th>model__learning_rate</th>\n",
              "      <th>model__max_depth</th>\n",
              "      <th>model__n_estimators</th>\n",
              "      <th>model__subsample</th>\n",
              "      <th>model__max_features</th>\n",
              "      <th>model__min_samples_leaf</th>\n",
              "      <th>model__min_samples_split</th>\n",
              "    </tr>\n",
              "  </thead>\n",
              "  <tbody>\n",
              "    <tr>\n",
              "      <th>59</th>\n",
              "      <td>RandomForestRegressor</td>\n",
              "      <td>0.739311</td>\n",
              "      <td>0.780941</td>\n",
              "      <td>0.830707</td>\n",
              "      <td>0.034855</td>\n",
              "      <td>NaN</td>\n",
              "      <td>10</td>\n",
              "      <td>500</td>\n",
              "      <td>NaN</td>\n",
              "      <td>log2</td>\n",
              "      <td>1</td>\n",
              "      <td>10</td>\n",
              "    </tr>\n",
              "    <tr>\n",
              "      <th>47</th>\n",
              "      <td>RandomForestRegressor</td>\n",
              "      <td>0.739311</td>\n",
              "      <td>0.780941</td>\n",
              "      <td>0.830707</td>\n",
              "      <td>0.034855</td>\n",
              "      <td>NaN</td>\n",
              "      <td>10</td>\n",
              "      <td>500</td>\n",
              "      <td>NaN</td>\n",
              "      <td>sqrt</td>\n",
              "      <td>1</td>\n",
              "      <td>10</td>\n",
              "    </tr>\n",
              "    <tr>\n",
              "      <th>57</th>\n",
              "      <td>RandomForestRegressor</td>\n",
              "      <td>0.737313</td>\n",
              "      <td>0.780008</td>\n",
              "      <td>0.832014</td>\n",
              "      <td>0.03578</td>\n",
              "      <td>NaN</td>\n",
              "      <td>10</td>\n",
              "      <td>200</td>\n",
              "      <td>NaN</td>\n",
              "      <td>log2</td>\n",
              "      <td>1</td>\n",
              "      <td>10</td>\n",
              "    </tr>\n",
              "    <tr>\n",
              "      <th>45</th>\n",
              "      <td>RandomForestRegressor</td>\n",
              "      <td>0.737313</td>\n",
              "      <td>0.780008</td>\n",
              "      <td>0.832014</td>\n",
              "      <td>0.03578</td>\n",
              "      <td>NaN</td>\n",
              "      <td>10</td>\n",
              "      <td>200</td>\n",
              "      <td>NaN</td>\n",
              "      <td>sqrt</td>\n",
              "      <td>1</td>\n",
              "      <td>10</td>\n",
              "    </tr>\n",
              "    <tr>\n",
              "      <th>65</th>\n",
              "      <td>RandomForestRegressor</td>\n",
              "      <td>0.738688</td>\n",
              "      <td>0.779929</td>\n",
              "      <td>0.830934</td>\n",
              "      <td>0.034972</td>\n",
              "      <td>NaN</td>\n",
              "      <td>10</td>\n",
              "      <td>500</td>\n",
              "      <td>NaN</td>\n",
              "      <td>log2</td>\n",
              "      <td>2</td>\n",
              "      <td>10</td>\n",
              "    </tr>\n",
              "    <tr>\n",
              "      <th>...</th>\n",
              "      <td>...</td>\n",
              "      <td>...</td>\n",
              "      <td>...</td>\n",
              "      <td>...</td>\n",
              "      <td>...</td>\n",
              "      <td>...</td>\n",
              "      <td>...</td>\n",
              "      <td>...</td>\n",
              "      <td>...</td>\n",
              "      <td>...</td>\n",
              "      <td>...</td>\n",
              "      <td>...</td>\n",
              "    </tr>\n",
              "    <tr>\n",
              "      <th>14</th>\n",
              "      <td>GradientBoostingRegressor</td>\n",
              "      <td>0.67212</td>\n",
              "      <td>0.717249</td>\n",
              "      <td>0.757436</td>\n",
              "      <td>0.033898</td>\n",
              "      <td>0.01</td>\n",
              "      <td>3</td>\n",
              "      <td>150</td>\n",
              "      <td>0.8</td>\n",
              "      <td>NaN</td>\n",
              "      <td>NaN</td>\n",
              "      <td>NaN</td>\n",
              "    </tr>\n",
              "    <tr>\n",
              "      <th>16</th>\n",
              "      <td>GradientBoostingRegressor</td>\n",
              "      <td>0.636617</td>\n",
              "      <td>0.676896</td>\n",
              "      <td>0.70346</td>\n",
              "      <td>0.027042</td>\n",
              "      <td>0.01</td>\n",
              "      <td>5</td>\n",
              "      <td>100</td>\n",
              "      <td>0.8</td>\n",
              "      <td>NaN</td>\n",
              "      <td>NaN</td>\n",
              "      <td>NaN</td>\n",
              "    </tr>\n",
              "    <tr>\n",
              "      <th>13</th>\n",
              "      <td>GradientBoostingRegressor</td>\n",
              "      <td>0.595619</td>\n",
              "      <td>0.639786</td>\n",
              "      <td>0.671207</td>\n",
              "      <td>0.03077</td>\n",
              "      <td>0.01</td>\n",
              "      <td>3</td>\n",
              "      <td>100</td>\n",
              "      <td>0.8</td>\n",
              "      <td>NaN</td>\n",
              "      <td>NaN</td>\n",
              "      <td>NaN</td>\n",
              "    </tr>\n",
              "    <tr>\n",
              "      <th>15</th>\n",
              "      <td>GradientBoostingRegressor</td>\n",
              "      <td>0.460537</td>\n",
              "      <td>0.494979</td>\n",
              "      <td>0.517491</td>\n",
              "      <td>0.021714</td>\n",
              "      <td>0.01</td>\n",
              "      <td>5</td>\n",
              "      <td>50</td>\n",
              "      <td>0.8</td>\n",
              "      <td>NaN</td>\n",
              "      <td>NaN</td>\n",
              "      <td>NaN</td>\n",
              "    </tr>\n",
              "    <tr>\n",
              "      <th>12</th>\n",
              "      <td>GradientBoostingRegressor</td>\n",
              "      <td>0.421945</td>\n",
              "      <td>0.455422</td>\n",
              "      <td>0.477086</td>\n",
              "      <td>0.022239</td>\n",
              "      <td>0.01</td>\n",
              "      <td>3</td>\n",
              "      <td>50</td>\n",
              "      <td>0.8</td>\n",
              "      <td>NaN</td>\n",
              "      <td>NaN</td>\n",
              "      <td>NaN</td>\n",
              "    </tr>\n",
              "  </tbody>\n",
              "</table>\n",
              "<p>66 rows × 12 columns</p>\n",
              "</div>"
            ],
            "text/plain": [
              "                    estimator min_score mean_score max_score std_score  \\\n",
              "59      RandomForestRegressor  0.739311   0.780941  0.830707  0.034855   \n",
              "47      RandomForestRegressor  0.739311   0.780941  0.830707  0.034855   \n",
              "57      RandomForestRegressor  0.737313   0.780008  0.832014   0.03578   \n",
              "45      RandomForestRegressor  0.737313   0.780008  0.832014   0.03578   \n",
              "65      RandomForestRegressor  0.738688   0.779929  0.830934  0.034972   \n",
              "..                        ...       ...        ...       ...       ...   \n",
              "14  GradientBoostingRegressor   0.67212   0.717249  0.757436  0.033898   \n",
              "16  GradientBoostingRegressor  0.636617   0.676896   0.70346  0.027042   \n",
              "13  GradientBoostingRegressor  0.595619   0.639786  0.671207   0.03077   \n",
              "15  GradientBoostingRegressor  0.460537   0.494979  0.517491  0.021714   \n",
              "12  GradientBoostingRegressor  0.421945   0.455422  0.477086  0.022239   \n",
              "\n",
              "   model__learning_rate model__max_depth model__n_estimators model__subsample  \\\n",
              "59                  NaN               10                 500              NaN   \n",
              "47                  NaN               10                 500              NaN   \n",
              "57                  NaN               10                 200              NaN   \n",
              "45                  NaN               10                 200              NaN   \n",
              "65                  NaN               10                 500              NaN   \n",
              "..                  ...              ...                 ...              ...   \n",
              "14                 0.01                3                 150              0.8   \n",
              "16                 0.01                5                 100              0.8   \n",
              "13                 0.01                3                 100              0.8   \n",
              "15                 0.01                5                  50              0.8   \n",
              "12                 0.01                3                  50              0.8   \n",
              "\n",
              "   model__max_features model__min_samples_leaf model__min_samples_split  \n",
              "59                log2                       1                       10  \n",
              "47                sqrt                       1                       10  \n",
              "57                log2                       1                       10  \n",
              "45                sqrt                       1                       10  \n",
              "65                log2                       2                       10  \n",
              "..                 ...                     ...                      ...  \n",
              "14                 NaN                     NaN                      NaN  \n",
              "16                 NaN                     NaN                      NaN  \n",
              "13                 NaN                     NaN                      NaN  \n",
              "15                 NaN                     NaN                      NaN  \n",
              "12                 NaN                     NaN                      NaN  \n",
              "\n",
              "[66 rows x 12 columns]"
            ]
          },
          "execution_count": 27,
          "metadata": {},
          "output_type": "execute_result"
        }
      ],
      "source": [
        "grid_search_summary, grid_search_pipelines = search.score_summary(sort_by='mean_score')\n",
        "grid_search_summary"
      ]
    },
    {
      "cell_type": "markdown",
      "metadata": {},
      "source": [
        "Check the best model"
      ]
    },
    {
      "cell_type": "code",
      "execution_count": 28,
      "metadata": {},
      "outputs": [
        {
          "data": {
            "text/plain": [
              "'RandomForestRegressor'"
            ]
          },
          "execution_count": 28,
          "metadata": {},
          "output_type": "execute_result"
        }
      ],
      "source": [
        "best_model = grid_search_summary.iloc[0, 0]\n",
        "best_model"
      ]
    },
    {
      "cell_type": "markdown",
      "metadata": {},
      "source": [
        "Parameters for best model"
      ]
    },
    {
      "cell_type": "code",
      "execution_count": 29,
      "metadata": {},
      "outputs": [
        {
          "data": {
            "text/plain": [
              "{'model__max_depth': 10,\n",
              " 'model__max_features': 'sqrt',\n",
              " 'model__min_samples_leaf': 1,\n",
              " 'model__min_samples_split': 10,\n",
              " 'model__n_estimators': 500}"
            ]
          },
          "execution_count": 29,
          "metadata": {},
          "output_type": "execute_result"
        }
      ],
      "source": [
        "grid_search_pipelines[best_model].best_params_"
      ]
    },
    {
      "cell_type": "markdown",
      "metadata": {},
      "source": [
        "Define the best regressor, based on search"
      ]
    },
    {
      "cell_type": "code",
      "execution_count": 30,
      "metadata": {},
      "outputs": [
        {
          "data": {
            "text/html": [
              "<style>#sk-container-id-2 {color: black;}#sk-container-id-2 pre{padding: 0;}#sk-container-id-2 div.sk-toggleable {background-color: white;}#sk-container-id-2 label.sk-toggleable__label {cursor: pointer;display: block;width: 100%;margin-bottom: 0;padding: 0.3em;box-sizing: border-box;text-align: center;}#sk-container-id-2 label.sk-toggleable__label-arrow:before {content: \"▸\";float: left;margin-right: 0.25em;color: #696969;}#sk-container-id-2 label.sk-toggleable__label-arrow:hover:before {color: black;}#sk-container-id-2 div.sk-estimator:hover label.sk-toggleable__label-arrow:before {color: black;}#sk-container-id-2 div.sk-toggleable__content {max-height: 0;max-width: 0;overflow: hidden;text-align: left;background-color: #f0f8ff;}#sk-container-id-2 div.sk-toggleable__content pre {margin: 0.2em;color: black;border-radius: 0.25em;background-color: #f0f8ff;}#sk-container-id-2 input.sk-toggleable__control:checked~div.sk-toggleable__content {max-height: 200px;max-width: 100%;overflow: auto;}#sk-container-id-2 input.sk-toggleable__control:checked~label.sk-toggleable__label-arrow:before {content: \"▾\";}#sk-container-id-2 div.sk-estimator input.sk-toggleable__control:checked~label.sk-toggleable__label {background-color: #d4ebff;}#sk-container-id-2 div.sk-label input.sk-toggleable__control:checked~label.sk-toggleable__label {background-color: #d4ebff;}#sk-container-id-2 input.sk-hidden--visually {border: 0;clip: rect(1px 1px 1px 1px);clip: rect(1px, 1px, 1px, 1px);height: 1px;margin: -1px;overflow: hidden;padding: 0;position: absolute;width: 1px;}#sk-container-id-2 div.sk-estimator {font-family: monospace;background-color: #f0f8ff;border: 1px dotted black;border-radius: 0.25em;box-sizing: border-box;margin-bottom: 0.5em;}#sk-container-id-2 div.sk-estimator:hover {background-color: #d4ebff;}#sk-container-id-2 div.sk-parallel-item::after {content: \"\";width: 100%;border-bottom: 1px solid gray;flex-grow: 1;}#sk-container-id-2 div.sk-label:hover label.sk-toggleable__label {background-color: #d4ebff;}#sk-container-id-2 div.sk-serial::before {content: \"\";position: absolute;border-left: 1px solid gray;box-sizing: border-box;top: 0;bottom: 0;left: 50%;z-index: 0;}#sk-container-id-2 div.sk-serial {display: flex;flex-direction: column;align-items: center;background-color: white;padding-right: 0.2em;padding-left: 0.2em;position: relative;}#sk-container-id-2 div.sk-item {position: relative;z-index: 1;}#sk-container-id-2 div.sk-parallel {display: flex;align-items: stretch;justify-content: center;background-color: white;position: relative;}#sk-container-id-2 div.sk-item::before, #sk-container-id-2 div.sk-parallel-item::before {content: \"\";position: absolute;border-left: 1px solid gray;box-sizing: border-box;top: 0;bottom: 0;left: 50%;z-index: -1;}#sk-container-id-2 div.sk-parallel-item {display: flex;flex-direction: column;z-index: 1;position: relative;background-color: white;}#sk-container-id-2 div.sk-parallel-item:first-child::after {align-self: flex-end;width: 50%;}#sk-container-id-2 div.sk-parallel-item:last-child::after {align-self: flex-start;width: 50%;}#sk-container-id-2 div.sk-parallel-item:only-child::after {width: 0;}#sk-container-id-2 div.sk-dashed-wrapped {border: 1px dashed gray;margin: 0 0.4em 0.5em 0.4em;box-sizing: border-box;padding-bottom: 0.4em;background-color: white;}#sk-container-id-2 div.sk-label label {font-family: monospace;font-weight: bold;display: inline-block;line-height: 1.2em;}#sk-container-id-2 div.sk-label-container {text-align: center;}#sk-container-id-2 div.sk-container {/* jupyter's `normalize.less` sets `[hidden] { display: none; }` but bootstrap.min.css set `[hidden] { display: none !important; }` so we also need the `!important` here to be able to override the default hidden behavior on the sphinx rendered scikit-learn.org. See: https://github.com/scikit-learn/scikit-learn/issues/21755 */display: inline-block !important;position: relative;}#sk-container-id-2 div.sk-text-repr-fallback {display: none;}</style><div id=\"sk-container-id-2\" class=\"sk-top-container\"><div class=\"sk-text-repr-fallback\"><pre>Pipeline(steps=[(&#x27;numerical_transformation&#x27;,\n",
              "                 YeoJohnsonTransformer(variables=[&#x27;open&#x27;, &#x27;high&#x27;, &#x27;low&#x27;,\n",
              "                                                  &#x27;Volume BTC&#x27;, &#x27;Volume USD&#x27;,\n",
              "                                                  &#x27;price mean&#x27;, &#x27;upper shadow&#x27;,\n",
              "                                                  &#x27;lower shadow&#x27;, &#x27;spread&#x27;,\n",
              "                                                  &#x27;12EMA&#x27;, &#x27;26EMA&#x27;])),\n",
              "                (&#x27;SmartCorrelatedSelection&#x27;,\n",
              "                 SmartCorrelatedSelection(method=&#x27;spearman&#x27;,\n",
              "                                          selection_method=&#x27;variance&#x27;,\n",
              "                                          threshold=0.6)),\n",
              "                (&#x27;feat_scaling&#x27;, StandardScaler()),\n",
              "                (&#x27;feat_selection&#x27;,\n",
              "                 SelectFromModel(estimator=RandomForestRegressor(random_state=0))),\n",
              "                (&#x27;model&#x27;,\n",
              "                 RandomForestRegressor(max_depth=10, max_features=&#x27;sqrt&#x27;,\n",
              "                                       min_samples_split=10, n_estimators=500,\n",
              "                                       random_state=0))])</pre><b>In a Jupyter environment, please rerun this cell to show the HTML representation or trust the notebook. <br />On GitHub, the HTML representation is unable to render, please try loading this page with nbviewer.org.</b></div><div class=\"sk-container\" hidden><div class=\"sk-item sk-dashed-wrapped\"><div class=\"sk-label-container\"><div class=\"sk-label sk-toggleable\"><input class=\"sk-toggleable__control sk-hidden--visually\" id=\"sk-estimator-id-9\" type=\"checkbox\" ><label for=\"sk-estimator-id-9\" class=\"sk-toggleable__label sk-toggleable__label-arrow\">Pipeline</label><div class=\"sk-toggleable__content\"><pre>Pipeline(steps=[(&#x27;numerical_transformation&#x27;,\n",
              "                 YeoJohnsonTransformer(variables=[&#x27;open&#x27;, &#x27;high&#x27;, &#x27;low&#x27;,\n",
              "                                                  &#x27;Volume BTC&#x27;, &#x27;Volume USD&#x27;,\n",
              "                                                  &#x27;price mean&#x27;, &#x27;upper shadow&#x27;,\n",
              "                                                  &#x27;lower shadow&#x27;, &#x27;spread&#x27;,\n",
              "                                                  &#x27;12EMA&#x27;, &#x27;26EMA&#x27;])),\n",
              "                (&#x27;SmartCorrelatedSelection&#x27;,\n",
              "                 SmartCorrelatedSelection(method=&#x27;spearman&#x27;,\n",
              "                                          selection_method=&#x27;variance&#x27;,\n",
              "                                          threshold=0.6)),\n",
              "                (&#x27;feat_scaling&#x27;, StandardScaler()),\n",
              "                (&#x27;feat_selection&#x27;,\n",
              "                 SelectFromModel(estimator=RandomForestRegressor(random_state=0))),\n",
              "                (&#x27;model&#x27;,\n",
              "                 RandomForestRegressor(max_depth=10, max_features=&#x27;sqrt&#x27;,\n",
              "                                       min_samples_split=10, n_estimators=500,\n",
              "                                       random_state=0))])</pre></div></div></div><div class=\"sk-serial\"><div class=\"sk-item\"><div class=\"sk-estimator sk-toggleable\"><input class=\"sk-toggleable__control sk-hidden--visually\" id=\"sk-estimator-id-10\" type=\"checkbox\" ><label for=\"sk-estimator-id-10\" class=\"sk-toggleable__label sk-toggleable__label-arrow\">YeoJohnsonTransformer</label><div class=\"sk-toggleable__content\"><pre>YeoJohnsonTransformer(variables=[&#x27;open&#x27;, &#x27;high&#x27;, &#x27;low&#x27;, &#x27;Volume BTC&#x27;,\n",
              "                                 &#x27;Volume USD&#x27;, &#x27;price mean&#x27;, &#x27;upper shadow&#x27;,\n",
              "                                 &#x27;lower shadow&#x27;, &#x27;spread&#x27;, &#x27;12EMA&#x27;, &#x27;26EMA&#x27;])</pre></div></div></div><div class=\"sk-item\"><div class=\"sk-estimator sk-toggleable\"><input class=\"sk-toggleable__control sk-hidden--visually\" id=\"sk-estimator-id-11\" type=\"checkbox\" ><label for=\"sk-estimator-id-11\" class=\"sk-toggleable__label sk-toggleable__label-arrow\">SmartCorrelatedSelection</label><div class=\"sk-toggleable__content\"><pre>SmartCorrelatedSelection(method=&#x27;spearman&#x27;, selection_method=&#x27;variance&#x27;,\n",
              "                         threshold=0.6)</pre></div></div></div><div class=\"sk-item\"><div class=\"sk-estimator sk-toggleable\"><input class=\"sk-toggleable__control sk-hidden--visually\" id=\"sk-estimator-id-12\" type=\"checkbox\" ><label for=\"sk-estimator-id-12\" class=\"sk-toggleable__label sk-toggleable__label-arrow\">StandardScaler</label><div class=\"sk-toggleable__content\"><pre>StandardScaler()</pre></div></div></div><div class=\"sk-item sk-dashed-wrapped\"><div class=\"sk-label-container\"><div class=\"sk-label sk-toggleable\"><input class=\"sk-toggleable__control sk-hidden--visually\" id=\"sk-estimator-id-13\" type=\"checkbox\" ><label for=\"sk-estimator-id-13\" class=\"sk-toggleable__label sk-toggleable__label-arrow\">feat_selection: SelectFromModel</label><div class=\"sk-toggleable__content\"><pre>SelectFromModel(estimator=RandomForestRegressor(random_state=0))</pre></div></div></div><div class=\"sk-parallel\"><div class=\"sk-parallel-item\"><div class=\"sk-item\"><div class=\"sk-label-container\"><div class=\"sk-label sk-toggleable\"><input class=\"sk-toggleable__control sk-hidden--visually\" id=\"sk-estimator-id-14\" type=\"checkbox\" ><label for=\"sk-estimator-id-14\" class=\"sk-toggleable__label sk-toggleable__label-arrow\">estimator: RandomForestRegressor</label><div class=\"sk-toggleable__content\"><pre>RandomForestRegressor(random_state=0)</pre></div></div></div><div class=\"sk-serial\"><div class=\"sk-item\"><div class=\"sk-estimator sk-toggleable\"><input class=\"sk-toggleable__control sk-hidden--visually\" id=\"sk-estimator-id-15\" type=\"checkbox\" ><label for=\"sk-estimator-id-15\" class=\"sk-toggleable__label sk-toggleable__label-arrow\">RandomForestRegressor</label><div class=\"sk-toggleable__content\"><pre>RandomForestRegressor(random_state=0)</pre></div></div></div></div></div></div></div></div><div class=\"sk-item\"><div class=\"sk-estimator sk-toggleable\"><input class=\"sk-toggleable__control sk-hidden--visually\" id=\"sk-estimator-id-16\" type=\"checkbox\" ><label for=\"sk-estimator-id-16\" class=\"sk-toggleable__label sk-toggleable__label-arrow\">RandomForestRegressor</label><div class=\"sk-toggleable__content\"><pre>RandomForestRegressor(max_depth=10, max_features=&#x27;sqrt&#x27;, min_samples_split=10,\n",
              "                      n_estimators=500, random_state=0)</pre></div></div></div></div></div></div></div>"
            ],
            "text/plain": [
              "Pipeline(steps=[('numerical_transformation',\n",
              "                 YeoJohnsonTransformer(variables=['open', 'high', 'low',\n",
              "                                                  'Volume BTC', 'Volume USD',\n",
              "                                                  'price mean', 'upper shadow',\n",
              "                                                  'lower shadow', 'spread',\n",
              "                                                  '12EMA', '26EMA'])),\n",
              "                ('SmartCorrelatedSelection',\n",
              "                 SmartCorrelatedSelection(method='spearman',\n",
              "                                          selection_method='variance',\n",
              "                                          threshold=0.6)),\n",
              "                ('feat_scaling', StandardScaler()),\n",
              "                ('feat_selection',\n",
              "                 SelectFromModel(estimator=RandomForestRegressor(random_state=0))),\n",
              "                ('model',\n",
              "                 RandomForestRegressor(max_depth=10, max_features='sqrt',\n",
              "                                       min_samples_split=10, n_estimators=500,\n",
              "                                       random_state=0))])"
            ]
          },
          "execution_count": 30,
          "metadata": {},
          "output_type": "execute_result"
        }
      ],
      "source": [
        "best_regressor_pipeline = grid_search_pipelines[best_model].best_estimator_\n",
        "best_regressor_pipeline"
      ]
    },
    {
      "cell_type": "markdown",
      "metadata": {},
      "source": [
        "## Assess feature importance"
      ]
    },
    {
      "cell_type": "code",
      "execution_count": 31,
      "metadata": {},
      "outputs": [
        {
          "name": "stdout",
          "output_type": "stream",
          "text": [
            "* These are the 2 most important features in descending order. The model was trained on them: \n",
            "['MACD', 'Volume USD']\n"
          ]
        },
        {
          "data": {
            "image/png": "[encoded data removed]",
            "text/plain": [
              "<Figure size 640x480 with 1 Axes>"
            ]
          },
          "metadata": {},
          "output_type": "display_data"
        }
      ],
      "source": [
        "import matplotlib.pyplot as plt\n",
        "import seaborn as sns\n",
        "sns.set_style('whitegrid')\n",
        "\n",
        "# after data cleaning and feature engineering, the features may have changes\n",
        "# how many data cleaning and feature engineering steps does your pipeline have?\n",
        "data_cleaning_feat_eng_steps = 2\n",
        "columns_after_data_cleaning_feat_eng = (Pipeline(best_regressor_pipeline.steps[:data_cleaning_feat_eng_steps])\n",
        "                                        .transform(X_train)\n",
        "                                        .columns)\n",
        "\n",
        "best_features = columns_after_data_cleaning_feat_eng[best_regressor_pipeline['feat_selection'].get_support(\n",
        ")].to_list()\n",
        "\n",
        "# create DataFrame to display feature importance\n",
        "df_feature_importance = (pd.DataFrame(data={\n",
        "    'Feature': columns_after_data_cleaning_feat_eng[best_regressor_pipeline['feat_selection'].get_support()],\n",
        "    'Importance': best_regressor_pipeline['model'].feature_importances_})\n",
        "    .sort_values(by='Importance', ascending=False)\n",
        ")\n",
        "\n",
        "# Most important features statement and plot\n",
        "print(f\"* These are the {len(best_features)} most important features in descending order. \"\n",
        "      f\"The model was trained on them: \\n{df_feature_importance['Feature'].to_list()}\")\n",
        "\n",
        "df_feature_importance.plot(kind='bar', x='Feature', y='Importance')\n",
        "plt.show()"
      ]
    },
    {
      "cell_type": "markdown",
      "metadata": {},
      "source": [
        "## Evaluate on Train and Test Sets"
      ]
    },
    {
      "cell_type": "code",
      "execution_count": 32,
      "metadata": {},
      "outputs": [],
      "source": [
        "from sklearn.metrics import r2_score, mean_squared_error, mean_absolute_error\n",
        "import numpy as np\n",
        "\n",
        "\n",
        "def regression_performance(X_train, y_train, X_test, y_test, pipeline):\n",
        "    print(\"Model Evaluation \\n\")\n",
        "    print(\"* Train Set\")\n",
        "    regression_evaluation(X_train, y_train, pipeline)\n",
        "    print(\"* Test Set\")\n",
        "    regression_evaluation(X_test, y_test, pipeline)\n",
        "\n",
        "\n",
        "def regression_evaluation(X, y, pipeline):\n",
        "    prediction = pipeline.predict(X)\n",
        "    print('R2 Score:', r2_score(y, prediction).round(3))\n",
        "    print('Mean Absolute Error:', mean_absolute_error(y, prediction).round(3))\n",
        "    print('Mean Squared Error:', mean_squared_error(y, prediction).round(3))\n",
        "    print('Root Mean Squared Error:', np.sqrt(\n",
        "        mean_squared_error(y, prediction)).round(3))\n",
        "    print(\"\\n\")\n",
        "\n",
        "\n",
        "def regression_evaluation_plots(X_train, y_train, X_test, y_test, pipeline, alpha_scatter=0.5):\n",
        "    pred_train = pipeline.predict(X_train)\n",
        "    pred_test = pipeline.predict(X_test)\n",
        "\n",
        "    fig, axes = plt.subplots(nrows=1, ncols=2, figsize=(12, 6))\n",
        "    sns.scatterplot(x=y_train, y=pred_train, alpha=alpha_scatter, ax=axes[0])\n",
        "    sns.lineplot(x=y_train, y=y_train, color='red', ax=axes[0])\n",
        "    axes[0].set_xlabel(\"Actual\")\n",
        "    axes[0].set_ylabel(\"Predictions\")\n",
        "    axes[0].set_title(\"Train Set\")\n",
        "\n",
        "    sns.scatterplot(x=y_test, y=pred_test, alpha=alpha_scatter, ax=axes[1])\n",
        "    sns.lineplot(x=y_test, y=y_test, color='red', ax=axes[1])\n",
        "    axes[1].set_xlabel(\"Actual\")\n",
        "    axes[1].set_ylabel(\"Predictions\")\n",
        "    axes[1].set_title(\"Test Set\")\n",
        "\n",
        "    plt.show()"
      ]
    },
    {
      "cell_type": "markdown",
      "metadata": {},
      "source": [
        "Evaluation: Verify metrics against the ML business case, ensuring an R² score of at least 0.7."
      ]
    },
    {
      "cell_type": "markdown",
      "metadata": {},
      "source": [
        "The model performs well with R² scores above 0.7 for both sets, but the Mean Absolute Error and Root Mean Squared Error suggest opportunities for improved prediction accuracy."
      ]
    },
    {
      "cell_type": "code",
      "execution_count": 33,
      "metadata": {},
      "outputs": [
        {
          "name": "stdout",
          "output_type": "stream",
          "text": [
            "Model Evaluation \n",
            "\n",
            "* Train Set\n",
            "R2 Score: 0.887\n",
            "Mean Absolute Error: 2638.264\n",
            "Mean Squared Error: 29628435.871\n",
            "Root Mean Squared Error: 5443.201\n",
            "\n",
            "\n",
            "* Test Set\n",
            "R2 Score: 0.791\n",
            "Mean Absolute Error: 3833.587\n",
            "Mean Squared Error: 58260758.689\n",
            "Root Mean Squared Error: 7632.874\n",
            "\n",
            "\n"
          ]
        },
        {
          "data": {
            "image/png": "[encoded data removed]",
            "text/plain": [
              "<Figure size 1200x600 with 2 Axes>"
            ]
          },
          "metadata": {},
          "output_type": "display_data"
        }
      ],
      "source": [
        "regression_performance(X_train, y_train, X_test, y_test, best_regressor_pipeline)\n",
        "regression_evaluation_plots(X_train, y_train, X_test, y_test, best_regressor_pipeline)"
      ]
    },
    {
      "cell_type": "markdown",
      "metadata": {},
      "source": [
        "---"
      ]
    },
    {
      "cell_type": "markdown",
      "metadata": {
        "id": "ltNetd085qHf"
      },
      "source": [
        "# Push files to Repo"
      ]
    },
    {
      "cell_type": "markdown",
      "metadata": {},
      "source": [
        "We will generate the following files\n",
        "\n",
        "* Train set\n",
        "* Test set\n",
        "* Modeling pipeline\n",
        "* features importance plot"
      ]
    },
    {
      "cell_type": "code",
      "execution_count": 34,
      "metadata": {
        "id": "aKlnIozA4eQO",
        "outputId": "fd09bc1f-adb1-4511-f6ce-492a6af570c0"
      },
      "outputs": [],
      "source": [
        "import joblib\n",
        "import os\n",
        "\n",
        "version = 'v2'\n",
        "file_path = f'outputs/ml_pipeline/predict_close/{version}'\n",
        "\n",
        "try:\n",
        "  os.makedirs(name=file_path)\n",
        "except Exception as e:\n",
        "  print(e)"
      ]
    },
    {
      "cell_type": "markdown",
      "metadata": {},
      "source": [
        "## Train Set: features and target"
      ]
    },
    {
      "cell_type": "code",
      "execution_count": 35,
      "metadata": {},
      "outputs": [
        {
          "data": {
            "text/html": [
              "<div>\n",
              "<style scoped>\n",
              "    .dataframe tbody tr th:only-of-type {\n",
              "        vertical-align: middle;\n",
              "    }\n",
              "\n",
              "    .dataframe tbody tr th {\n",
              "        vertical-align: top;\n",
              "    }\n",
              "\n",
              "    .dataframe thead th {\n",
              "        text-align: right;\n",
              "    }\n",
              "</style>\n",
              "<table border=\"1\" class=\"dataframe\">\n",
              "  <thead>\n",
              "    <tr style=\"text-align: right;\">\n",
              "      <th></th>\n",
              "      <th>open</th>\n",
              "      <th>high</th>\n",
              "      <th>low</th>\n",
              "      <th>Volume BTC</th>\n",
              "      <th>Volume USD</th>\n",
              "      <th>price mean</th>\n",
              "      <th>upper shadow</th>\n",
              "      <th>lower shadow</th>\n",
              "      <th>spread</th>\n",
              "      <th>trade</th>\n",
              "      <th>12EMA</th>\n",
              "      <th>26EMA</th>\n",
              "      <th>MACD</th>\n",
              "      <th>buy/sell</th>\n",
              "    </tr>\n",
              "    <tr>\n",
              "      <th>date</th>\n",
              "      <th></th>\n",
              "      <th></th>\n",
              "      <th></th>\n",
              "      <th></th>\n",
              "      <th></th>\n",
              "      <th></th>\n",
              "      <th></th>\n",
              "      <th></th>\n",
              "      <th></th>\n",
              "      <th></th>\n",
              "      <th></th>\n",
              "      <th></th>\n",
              "      <th></th>\n",
              "      <th></th>\n",
              "    </tr>\n",
              "  </thead>\n",
              "  <tbody>\n",
              "    <tr>\n",
              "      <th>2018-12-09</th>\n",
              "      <td>3398.80</td>\n",
              "      <td>3633.20</td>\n",
              "      <td>3371.09</td>\n",
              "      <td>8.011023e+03</td>\n",
              "      <td>2.827691e+07</td>\n",
              "      <td>3483.2100</td>\n",
              "      <td>103.45</td>\n",
              "      <td>27.71</td>\n",
              "      <td>262.11</td>\n",
              "      <td>130.95</td>\n",
              "      <td>3770.752238</td>\n",
              "      <td>4285.087569</td>\n",
              "      <td>-514.335331</td>\n",
              "      <td>1</td>\n",
              "    </tr>\n",
              "    <tr>\n",
              "      <th>2021-09-13</th>\n",
              "      <td>46039.42</td>\n",
              "      <td>46895.82</td>\n",
              "      <td>43400.00</td>\n",
              "      <td>2.308422e+03</td>\n",
              "      <td>1.038198e+08</td>\n",
              "      <td>45327.3950</td>\n",
              "      <td>856.40</td>\n",
              "      <td>1574.34</td>\n",
              "      <td>3495.82</td>\n",
              "      <td>-1065.08</td>\n",
              "      <td>46881.459335</td>\n",
              "      <td>46911.440587</td>\n",
              "      <td>-29.981253</td>\n",
              "      <td>0</td>\n",
              "    </tr>\n",
              "    <tr>\n",
              "      <th>2021-09-24</th>\n",
              "      <td>44893.70</td>\n",
              "      <td>45159.90</td>\n",
              "      <td>40693.27</td>\n",
              "      <td>4.348928e+03</td>\n",
              "      <td>1.863451e+08</td>\n",
              "      <td>43398.8425</td>\n",
              "      <td>266.20</td>\n",
              "      <td>2155.23</td>\n",
              "      <td>4466.63</td>\n",
              "      <td>-2045.20</td>\n",
              "      <td>44963.376548</td>\n",
              "      <td>45865.868914</td>\n",
              "      <td>-902.492367</td>\n",
              "      <td>0</td>\n",
              "    </tr>\n",
              "    <tr>\n",
              "      <th>2015-12-13</th>\n",
              "      <td>436.08</td>\n",
              "      <td>442.97</td>\n",
              "      <td>422.03</td>\n",
              "      <td>4.885668e+06</td>\n",
              "      <td>1.122718e+04</td>\n",
              "      <td>434.2200</td>\n",
              "      <td>6.89</td>\n",
              "      <td>13.77</td>\n",
              "      <td>20.94</td>\n",
              "      <td>-0.28</td>\n",
              "      <td>408.189469</td>\n",
              "      <td>382.010012</td>\n",
              "      <td>26.179457</td>\n",
              "      <td>0</td>\n",
              "    </tr>\n",
              "    <tr>\n",
              "      <th>2017-09-19</th>\n",
              "      <td>4101.60</td>\n",
              "      <td>4119.70</td>\n",
              "      <td>3848.35</td>\n",
              "      <td>6.029694e+07</td>\n",
              "      <td>1.525189e+04</td>\n",
              "      <td>3989.6125</td>\n",
              "      <td>18.10</td>\n",
              "      <td>40.45</td>\n",
              "      <td>271.35</td>\n",
              "      <td>-212.80</td>\n",
              "      <td>3954.139445</td>\n",
              "      <td>4042.035241</td>\n",
              "      <td>-87.895796</td>\n",
              "      <td>0</td>\n",
              "    </tr>\n",
              "  </tbody>\n",
              "</table>\n",
              "</div>"
            ],
            "text/plain": [
              "                open      high       low    Volume BTC    Volume USD  \\\n",
              "date                                                                   \n",
              "2018-12-09   3398.80   3633.20   3371.09  8.011023e+03  2.827691e+07   \n",
              "2021-09-13  46039.42  46895.82  43400.00  2.308422e+03  1.038198e+08   \n",
              "2021-09-24  44893.70  45159.90  40693.27  4.348928e+03  1.863451e+08   \n",
              "2015-12-13    436.08    442.97    422.03  4.885668e+06  1.122718e+04   \n",
              "2017-09-19   4101.60   4119.70   3848.35  6.029694e+07  1.525189e+04   \n",
              "\n",
              "            price mean  upper shadow  lower shadow   spread    trade  \\\n",
              "date                                                                   \n",
              "2018-12-09   3483.2100        103.45         27.71   262.11   130.95   \n",
              "2021-09-13  45327.3950        856.40       1574.34  3495.82 -1065.08   \n",
              "2021-09-24  43398.8425        266.20       2155.23  4466.63 -2045.20   \n",
              "2015-12-13    434.2200          6.89         13.77    20.94    -0.28   \n",
              "2017-09-19   3989.6125         18.10         40.45   271.35  -212.80   \n",
              "\n",
              "                   12EMA         26EMA        MACD  buy/sell  \n",
              "date                                                          \n",
              "2018-12-09   3770.752238   4285.087569 -514.335331         1  \n",
              "2021-09-13  46881.459335  46911.440587  -29.981253         0  \n",
              "2021-09-24  44963.376548  45865.868914 -902.492367         0  \n",
              "2015-12-13    408.189469    382.010012   26.179457         0  \n",
              "2017-09-19   3954.139445   4042.035241  -87.895796         0  "
            ]
          },
          "execution_count": 35,
          "metadata": {},
          "output_type": "execute_result"
        }
      ],
      "source": [
        "X_train.head()"
      ]
    },
    {
      "cell_type": "code",
      "execution_count": 36,
      "metadata": {},
      "outputs": [],
      "source": [
        "X_train.to_csv(f\"{file_path}/X_train.csv\", index=False)"
      ]
    },
    {
      "cell_type": "code",
      "execution_count": 37,
      "metadata": {},
      "outputs": [
        {
          "data": {
            "text/plain": [
              "date\n",
              "2018-12-09     3529.75\n",
              "2021-09-13    44974.34\n",
              "2021-09-24    42848.50\n",
              "2015-12-13      435.80\n",
              "2017-09-19     3888.80\n",
              "                ...   \n",
              "2019-08-26    10360.97\n",
              "2016-12-31      964.32\n",
              "2017-03-13     1242.46\n",
              "2019-06-09     7632.99\n",
              "2022-01-18    42377.40\n",
              "Name: close, Length: 2120, dtype: float64"
            ]
          },
          "execution_count": 37,
          "metadata": {},
          "output_type": "execute_result"
        }
      ],
      "source": [
        "y_train"
      ]
    },
    {
      "cell_type": "code",
      "execution_count": 38,
      "metadata": {},
      "outputs": [],
      "source": [
        "y_train.to_csv(f\"{file_path}/y_train.csv\", index=False)"
      ]
    },
    {
      "cell_type": "markdown",
      "metadata": {},
      "source": [
        "## Test Set: features and target"
      ]
    },
    {
      "cell_type": "code",
      "execution_count": 39,
      "metadata": {},
      "outputs": [
        {
          "data": {
            "text/html": [
              "<div>\n",
              "<style scoped>\n",
              "    .dataframe tbody tr th:only-of-type {\n",
              "        vertical-align: middle;\n",
              "    }\n",
              "\n",
              "    .dataframe tbody tr th {\n",
              "        vertical-align: top;\n",
              "    }\n",
              "\n",
              "    .dataframe thead th {\n",
              "        text-align: right;\n",
              "    }\n",
              "</style>\n",
              "<table border=\"1\" class=\"dataframe\">\n",
              "  <thead>\n",
              "    <tr style=\"text-align: right;\">\n",
              "      <th></th>\n",
              "      <th>open</th>\n",
              "      <th>high</th>\n",
              "      <th>low</th>\n",
              "      <th>Volume BTC</th>\n",
              "      <th>Volume USD</th>\n",
              "      <th>price mean</th>\n",
              "      <th>upper shadow</th>\n",
              "      <th>lower shadow</th>\n",
              "      <th>spread</th>\n",
              "      <th>trade</th>\n",
              "      <th>12EMA</th>\n",
              "      <th>26EMA</th>\n",
              "      <th>MACD</th>\n",
              "      <th>buy/sell</th>\n",
              "    </tr>\n",
              "    <tr>\n",
              "      <th>date</th>\n",
              "      <th></th>\n",
              "      <th></th>\n",
              "      <th></th>\n",
              "      <th></th>\n",
              "      <th></th>\n",
              "      <th></th>\n",
              "      <th></th>\n",
              "      <th></th>\n",
              "      <th></th>\n",
              "      <th></th>\n",
              "      <th></th>\n",
              "      <th></th>\n",
              "      <th></th>\n",
              "      <th></th>\n",
              "    </tr>\n",
              "  </thead>\n",
              "  <tbody>\n",
              "    <tr>\n",
              "      <th>2018-07-29</th>\n",
              "      <td>8231.07</td>\n",
              "      <td>8299.99</td>\n",
              "      <td>8109.74</td>\n",
              "      <td>3.980279e+03</td>\n",
              "      <td>3.270492e+07</td>\n",
              "      <td>8214.3850</td>\n",
              "      <td>68.92</td>\n",
              "      <td>107.00</td>\n",
              "      <td>190.25</td>\n",
              "      <td>-14.33</td>\n",
              "      <td>7803.793694</td>\n",
              "      <td>7376.078683</td>\n",
              "      <td>427.715011</td>\n",
              "      <td>0</td>\n",
              "    </tr>\n",
              "    <tr>\n",
              "      <th>2015-03-13</th>\n",
              "      <td>295.56</td>\n",
              "      <td>295.84</td>\n",
              "      <td>282.99</td>\n",
              "      <td>2.654225e+06</td>\n",
              "      <td>9.178740e+03</td>\n",
              "      <td>289.6975</td>\n",
              "      <td>0.28</td>\n",
              "      <td>1.41</td>\n",
              "      <td>12.85</td>\n",
              "      <td>-11.16</td>\n",
              "      <td>279.407035</td>\n",
              "      <td>266.290208</td>\n",
              "      <td>13.116826</td>\n",
              "      <td>0</td>\n",
              "    </tr>\n",
              "    <tr>\n",
              "      <th>2017-04-25</th>\n",
              "      <td>1253.58</td>\n",
              "      <td>1280.00</td>\n",
              "      <td>1251.07</td>\n",
              "      <td>6.651231e+06</td>\n",
              "      <td>5.249770e+03</td>\n",
              "      <td>1263.4125</td>\n",
              "      <td>11.00</td>\n",
              "      <td>2.51</td>\n",
              "      <td>28.93</td>\n",
              "      <td>15.42</td>\n",
              "      <td>1223.510976</td>\n",
              "      <td>1189.245905</td>\n",
              "      <td>34.265071</td>\n",
              "      <td>1</td>\n",
              "    </tr>\n",
              "    <tr>\n",
              "      <th>2016-07-02</th>\n",
              "      <td>674.55</td>\n",
              "      <td>704.93</td>\n",
              "      <td>672.74</td>\n",
              "      <td>3.759346e+06</td>\n",
              "      <td>5.431820e+03</td>\n",
              "      <td>688.6750</td>\n",
              "      <td>2.45</td>\n",
              "      <td>1.81</td>\n",
              "      <td>32.19</td>\n",
              "      <td>27.93</td>\n",
              "      <td>665.359802</td>\n",
              "      <td>644.774305</td>\n",
              "      <td>20.585498</td>\n",
              "      <td>1</td>\n",
              "    </tr>\n",
              "    <tr>\n",
              "      <th>2020-11-11</th>\n",
              "      <td>15314.94</td>\n",
              "      <td>15991.01</td>\n",
              "      <td>15290.85</td>\n",
              "      <td>1.001326e+04</td>\n",
              "      <td>1.572873e+08</td>\n",
              "      <td>15576.1725</td>\n",
              "      <td>283.12</td>\n",
              "      <td>24.09</td>\n",
              "      <td>700.16</td>\n",
              "      <td>392.95</td>\n",
              "      <td>14824.259163</td>\n",
              "      <td>13891.134053</td>\n",
              "      <td>933.125110</td>\n",
              "      <td>1</td>\n",
              "    </tr>\n",
              "  </tbody>\n",
              "</table>\n",
              "</div>"
            ],
            "text/plain": [
              "                open      high       low    Volume BTC    Volume USD  \\\n",
              "date                                                                   \n",
              "2018-07-29   8231.07   8299.99   8109.74  3.980279e+03  3.270492e+07   \n",
              "2015-03-13    295.56    295.84    282.99  2.654225e+06  9.178740e+03   \n",
              "2017-04-25   1253.58   1280.00   1251.07  6.651231e+06  5.249770e+03   \n",
              "2016-07-02    674.55    704.93    672.74  3.759346e+06  5.431820e+03   \n",
              "2020-11-11  15314.94  15991.01  15290.85  1.001326e+04  1.572873e+08   \n",
              "\n",
              "            price mean  upper shadow  lower shadow  spread   trade  \\\n",
              "date                                                                 \n",
              "2018-07-29   8214.3850         68.92        107.00  190.25  -14.33   \n",
              "2015-03-13    289.6975          0.28          1.41   12.85  -11.16   \n",
              "2017-04-25   1263.4125         11.00          2.51   28.93   15.42   \n",
              "2016-07-02    688.6750          2.45          1.81   32.19   27.93   \n",
              "2020-11-11  15576.1725        283.12         24.09  700.16  392.95   \n",
              "\n",
              "                   12EMA         26EMA        MACD  buy/sell  \n",
              "date                                                          \n",
              "2018-07-29   7803.793694   7376.078683  427.715011         0  \n",
              "2015-03-13    279.407035    266.290208   13.116826         0  \n",
              "2017-04-25   1223.510976   1189.245905   34.265071         1  \n",
              "2016-07-02    665.359802    644.774305   20.585498         1  \n",
              "2020-11-11  14824.259163  13891.134053  933.125110         1  "
            ]
          },
          "execution_count": 39,
          "metadata": {},
          "output_type": "execute_result"
        }
      ],
      "source": [
        "X_test.head()"
      ]
    },
    {
      "cell_type": "code",
      "execution_count": 40,
      "metadata": {},
      "outputs": [],
      "source": [
        "X_test.to_csv(f\"{file_path}/X_test.csv\", index=False)"
      ]
    },
    {
      "cell_type": "code",
      "execution_count": 41,
      "metadata": {},
      "outputs": [
        {
          "data": {
            "text/plain": [
              "date\n",
              "2018-07-29     8216.74\n",
              "2015-03-13      284.40\n",
              "2017-04-25     1269.00\n",
              "2016-07-02      702.48\n",
              "2020-11-11    15707.89\n",
              "                ...   \n",
              "2022-02-08    44091.56\n",
              "2018-01-01    13443.41\n",
              "2016-10-15      636.01\n",
              "2016-03-29      415.40\n",
              "2021-04-11    59979.26\n",
              "Name: close, Length: 530, dtype: float64"
            ]
          },
          "execution_count": 41,
          "metadata": {},
          "output_type": "execute_result"
        }
      ],
      "source": [
        "y_test"
      ]
    },
    {
      "cell_type": "code",
      "execution_count": 42,
      "metadata": {},
      "outputs": [],
      "source": [
        "y_test.to_csv(f\"{file_path}/y_test.csv\", index=False)"
      ]
    },
    {
      "cell_type": "markdown",
      "metadata": {},
      "source": [
        "## Modelin pipeline"
      ]
    },
    {
      "cell_type": "markdown",
      "metadata": {},
      "source": [
        "ML pipeline for predicting close"
      ]
    },
    {
      "cell_type": "code",
      "execution_count": 43,
      "metadata": {},
      "outputs": [
        {
          "data": {
            "text/html": [
              "<style>#sk-container-id-3 {color: black;}#sk-container-id-3 pre{padding: 0;}#sk-container-id-3 div.sk-toggleable {background-color: white;}#sk-container-id-3 label.sk-toggleable__label {cursor: pointer;display: block;width: 100%;margin-bottom: 0;padding: 0.3em;box-sizing: border-box;text-align: center;}#sk-container-id-3 label.sk-toggleable__label-arrow:before {content: \"▸\";float: left;margin-right: 0.25em;color: #696969;}#sk-container-id-3 label.sk-toggleable__label-arrow:hover:before {color: black;}#sk-container-id-3 div.sk-estimator:hover label.sk-toggleable__label-arrow:before {color: black;}#sk-container-id-3 div.sk-toggleable__content {max-height: 0;max-width: 0;overflow: hidden;text-align: left;background-color: #f0f8ff;}#sk-container-id-3 div.sk-toggleable__content pre {margin: 0.2em;color: black;border-radius: 0.25em;background-color: #f0f8ff;}#sk-container-id-3 input.sk-toggleable__control:checked~div.sk-toggleable__content {max-height: 200px;max-width: 100%;overflow: auto;}#sk-container-id-3 input.sk-toggleable__control:checked~label.sk-toggleable__label-arrow:before {content: \"▾\";}#sk-container-id-3 div.sk-estimator input.sk-toggleable__control:checked~label.sk-toggleable__label {background-color: #d4ebff;}#sk-container-id-3 div.sk-label input.sk-toggleable__control:checked~label.sk-toggleable__label {background-color: #d4ebff;}#sk-container-id-3 input.sk-hidden--visually {border: 0;clip: rect(1px 1px 1px 1px);clip: rect(1px, 1px, 1px, 1px);height: 1px;margin: -1px;overflow: hidden;padding: 0;position: absolute;width: 1px;}#sk-container-id-3 div.sk-estimator {font-family: monospace;background-color: #f0f8ff;border: 1px dotted black;border-radius: 0.25em;box-sizing: border-box;margin-bottom: 0.5em;}#sk-container-id-3 div.sk-estimator:hover {background-color: #d4ebff;}#sk-container-id-3 div.sk-parallel-item::after {content: \"\";width: 100%;border-bottom: 1px solid gray;flex-grow: 1;}#sk-container-id-3 div.sk-label:hover label.sk-toggleable__label {background-color: #d4ebff;}#sk-container-id-3 div.sk-serial::before {content: \"\";position: absolute;border-left: 1px solid gray;box-sizing: border-box;top: 0;bottom: 0;left: 50%;z-index: 0;}#sk-container-id-3 div.sk-serial {display: flex;flex-direction: column;align-items: center;background-color: white;padding-right: 0.2em;padding-left: 0.2em;position: relative;}#sk-container-id-3 div.sk-item {position: relative;z-index: 1;}#sk-container-id-3 div.sk-parallel {display: flex;align-items: stretch;justify-content: center;background-color: white;position: relative;}#sk-container-id-3 div.sk-item::before, #sk-container-id-3 div.sk-parallel-item::before {content: \"\";position: absolute;border-left: 1px solid gray;box-sizing: border-box;top: 0;bottom: 0;left: 50%;z-index: -1;}#sk-container-id-3 div.sk-parallel-item {display: flex;flex-direction: column;z-index: 1;position: relative;background-color: white;}#sk-container-id-3 div.sk-parallel-item:first-child::after {align-self: flex-end;width: 50%;}#sk-container-id-3 div.sk-parallel-item:last-child::after {align-self: flex-start;width: 50%;}#sk-container-id-3 div.sk-parallel-item:only-child::after {width: 0;}#sk-container-id-3 div.sk-dashed-wrapped {border: 1px dashed gray;margin: 0 0.4em 0.5em 0.4em;box-sizing: border-box;padding-bottom: 0.4em;background-color: white;}#sk-container-id-3 div.sk-label label {font-family: monospace;font-weight: bold;display: inline-block;line-height: 1.2em;}#sk-container-id-3 div.sk-label-container {text-align: center;}#sk-container-id-3 div.sk-container {/* jupyter's `normalize.less` sets `[hidden] { display: none; }` but bootstrap.min.css set `[hidden] { display: none !important; }` so we also need the `!important` here to be able to override the default hidden behavior on the sphinx rendered scikit-learn.org. See: https://github.com/scikit-learn/scikit-learn/issues/21755 */display: inline-block !important;position: relative;}#sk-container-id-3 div.sk-text-repr-fallback {display: none;}</style><div id=\"sk-container-id-3\" class=\"sk-top-container\"><div class=\"sk-text-repr-fallback\"><pre>Pipeline(steps=[(&#x27;numerical_transformation&#x27;,\n",
              "                 YeoJohnsonTransformer(variables=[&#x27;open&#x27;, &#x27;high&#x27;, &#x27;low&#x27;,\n",
              "                                                  &#x27;Volume BTC&#x27;, &#x27;Volume USD&#x27;,\n",
              "                                                  &#x27;price mean&#x27;, &#x27;upper shadow&#x27;,\n",
              "                                                  &#x27;lower shadow&#x27;, &#x27;spread&#x27;,\n",
              "                                                  &#x27;12EMA&#x27;, &#x27;26EMA&#x27;])),\n",
              "                (&#x27;SmartCorrelatedSelection&#x27;,\n",
              "                 SmartCorrelatedSelection(method=&#x27;spearman&#x27;,\n",
              "                                          selection_method=&#x27;variance&#x27;,\n",
              "                                          threshold=0.6)),\n",
              "                (&#x27;feat_scaling&#x27;, StandardScaler()),\n",
              "                (&#x27;feat_selection&#x27;,\n",
              "                 SelectFromModel(estimator=RandomForestRegressor(random_state=0))),\n",
              "                (&#x27;model&#x27;,\n",
              "                 RandomForestRegressor(max_depth=10, max_features=&#x27;sqrt&#x27;,\n",
              "                                       min_samples_split=10, n_estimators=500,\n",
              "                                       random_state=0))])</pre><b>In a Jupyter environment, please rerun this cell to show the HTML representation or trust the notebook. <br />On GitHub, the HTML representation is unable to render, please try loading this page with nbviewer.org.</b></div><div class=\"sk-container\" hidden><div class=\"sk-item sk-dashed-wrapped\"><div class=\"sk-label-container\"><div class=\"sk-label sk-toggleable\"><input class=\"sk-toggleable__control sk-hidden--visually\" id=\"sk-estimator-id-17\" type=\"checkbox\" ><label for=\"sk-estimator-id-17\" class=\"sk-toggleable__label sk-toggleable__label-arrow\">Pipeline</label><div class=\"sk-toggleable__content\"><pre>Pipeline(steps=[(&#x27;numerical_transformation&#x27;,\n",
              "                 YeoJohnsonTransformer(variables=[&#x27;open&#x27;, &#x27;high&#x27;, &#x27;low&#x27;,\n",
              "                                                  &#x27;Volume BTC&#x27;, &#x27;Volume USD&#x27;,\n",
              "                                                  &#x27;price mean&#x27;, &#x27;upper shadow&#x27;,\n",
              "                                                  &#x27;lower shadow&#x27;, &#x27;spread&#x27;,\n",
              "                                                  &#x27;12EMA&#x27;, &#x27;26EMA&#x27;])),\n",
              "                (&#x27;SmartCorrelatedSelection&#x27;,\n",
              "                 SmartCorrelatedSelection(method=&#x27;spearman&#x27;,\n",
              "                                          selection_method=&#x27;variance&#x27;,\n",
              "                                          threshold=0.6)),\n",
              "                (&#x27;feat_scaling&#x27;, StandardScaler()),\n",
              "                (&#x27;feat_selection&#x27;,\n",
              "                 SelectFromModel(estimator=RandomForestRegressor(random_state=0))),\n",
              "                (&#x27;model&#x27;,\n",
              "                 RandomForestRegressor(max_depth=10, max_features=&#x27;sqrt&#x27;,\n",
              "                                       min_samples_split=10, n_estimators=500,\n",
              "                                       random_state=0))])</pre></div></div></div><div class=\"sk-serial\"><div class=\"sk-item\"><div class=\"sk-estimator sk-toggleable\"><input class=\"sk-toggleable__control sk-hidden--visually\" id=\"sk-estimator-id-18\" type=\"checkbox\" ><label for=\"sk-estimator-id-18\" class=\"sk-toggleable__label sk-toggleable__label-arrow\">YeoJohnsonTransformer</label><div class=\"sk-toggleable__content\"><pre>YeoJohnsonTransformer(variables=[&#x27;open&#x27;, &#x27;high&#x27;, &#x27;low&#x27;, &#x27;Volume BTC&#x27;,\n",
              "                                 &#x27;Volume USD&#x27;, &#x27;price mean&#x27;, &#x27;upper shadow&#x27;,\n",
              "                                 &#x27;lower shadow&#x27;, &#x27;spread&#x27;, &#x27;12EMA&#x27;, &#x27;26EMA&#x27;])</pre></div></div></div><div class=\"sk-item\"><div class=\"sk-estimator sk-toggleable\"><input class=\"sk-toggleable__control sk-hidden--visually\" id=\"sk-estimator-id-19\" type=\"checkbox\" ><label for=\"sk-estimator-id-19\" class=\"sk-toggleable__label sk-toggleable__label-arrow\">SmartCorrelatedSelection</label><div class=\"sk-toggleable__content\"><pre>SmartCorrelatedSelection(method=&#x27;spearman&#x27;, selection_method=&#x27;variance&#x27;,\n",
              "                         threshold=0.6)</pre></div></div></div><div class=\"sk-item\"><div class=\"sk-estimator sk-toggleable\"><input class=\"sk-toggleable__control sk-hidden--visually\" id=\"sk-estimator-id-20\" type=\"checkbox\" ><label for=\"sk-estimator-id-20\" class=\"sk-toggleable__label sk-toggleable__label-arrow\">StandardScaler</label><div class=\"sk-toggleable__content\"><pre>StandardScaler()</pre></div></div></div><div class=\"sk-item sk-dashed-wrapped\"><div class=\"sk-label-container\"><div class=\"sk-label sk-toggleable\"><input class=\"sk-toggleable__control sk-hidden--visually\" id=\"sk-estimator-id-21\" type=\"checkbox\" ><label for=\"sk-estimator-id-21\" class=\"sk-toggleable__label sk-toggleable__label-arrow\">feat_selection: SelectFromModel</label><div class=\"sk-toggleable__content\"><pre>SelectFromModel(estimator=RandomForestRegressor(random_state=0))</pre></div></div></div><div class=\"sk-parallel\"><div class=\"sk-parallel-item\"><div class=\"sk-item\"><div class=\"sk-label-container\"><div class=\"sk-label sk-toggleable\"><input class=\"sk-toggleable__control sk-hidden--visually\" id=\"sk-estimator-id-22\" type=\"checkbox\" ><label for=\"sk-estimator-id-22\" class=\"sk-toggleable__label sk-toggleable__label-arrow\">estimator: RandomForestRegressor</label><div class=\"sk-toggleable__content\"><pre>RandomForestRegressor(random_state=0)</pre></div></div></div><div class=\"sk-serial\"><div class=\"sk-item\"><div class=\"sk-estimator sk-toggleable\"><input class=\"sk-toggleable__control sk-hidden--visually\" id=\"sk-estimator-id-23\" type=\"checkbox\" ><label for=\"sk-estimator-id-23\" class=\"sk-toggleable__label sk-toggleable__label-arrow\">RandomForestRegressor</label><div class=\"sk-toggleable__content\"><pre>RandomForestRegressor(random_state=0)</pre></div></div></div></div></div></div></div></div><div class=\"sk-item\"><div class=\"sk-estimator sk-toggleable\"><input class=\"sk-toggleable__control sk-hidden--visually\" id=\"sk-estimator-id-24\" type=\"checkbox\" ><label for=\"sk-estimator-id-24\" class=\"sk-toggleable__label sk-toggleable__label-arrow\">RandomForestRegressor</label><div class=\"sk-toggleable__content\"><pre>RandomForestRegressor(max_depth=10, max_features=&#x27;sqrt&#x27;, min_samples_split=10,\n",
              "                      n_estimators=500, random_state=0)</pre></div></div></div></div></div></div></div>"
            ],
            "text/plain": [
              "Pipeline(steps=[('numerical_transformation',\n",
              "                 YeoJohnsonTransformer(variables=['open', 'high', 'low',\n",
              "                                                  'Volume BTC', 'Volume USD',\n",
              "                                                  'price mean', 'upper shadow',\n",
              "                                                  'lower shadow', 'spread',\n",
              "                                                  '12EMA', '26EMA'])),\n",
              "                ('SmartCorrelatedSelection',\n",
              "                 SmartCorrelatedSelection(method='spearman',\n",
              "                                          selection_method='variance',\n",
              "                                          threshold=0.6)),\n",
              "                ('feat_scaling', StandardScaler()),\n",
              "                ('feat_selection',\n",
              "                 SelectFromModel(estimator=RandomForestRegressor(random_state=0))),\n",
              "                ('model',\n",
              "                 RandomForestRegressor(max_depth=10, max_features='sqrt',\n",
              "                                       min_samples_split=10, n_estimators=500,\n",
              "                                       random_state=0))])"
            ]
          },
          "execution_count": 43,
          "metadata": {},
          "output_type": "execute_result"
        }
      ],
      "source": [
        "best_regressor_pipeline"
      ]
    },
    {
      "cell_type": "code",
      "execution_count": 44,
      "metadata": {},
      "outputs": [
        {
          "data": {
            "text/plain": [
              "['outputs/ml_pipeline/predict_close/v2/best_regressor_pipeline.pkl']"
            ]
          },
          "execution_count": 44,
          "metadata": {},
          "output_type": "execute_result"
        }
      ],
      "source": [
        "joblib.dump(value=best_regressor_pipeline, filename=f\"{file_path}/best_regressor_pipeline.pkl\")"
      ]
    },
    {
      "cell_type": "markdown",
      "metadata": {},
      "source": [
        "## Feature importance plot"
      ]
    },
    {
      "cell_type": "code",
      "execution_count": 45,
      "metadata": {},
      "outputs": [
        {
          "data": {
            "image/png": "[encoded data removed]",
            "text/plain": [
              "<Figure size 640x480 with 1 Axes>"
            ]
          },
          "metadata": {},
          "output_type": "display_data"
        }
      ],
      "source": [
        "df_feature_importance.plot(kind='bar', x='Feature', y='Importance')\n",
        "plt.show()"
      ]
    },
    {
      "cell_type": "code",
      "execution_count": 46,
      "metadata": {},
      "outputs": [
        {
          "data": {
            "image/png": "[encoded data removed]",
            "text/plain": [
              "<Figure size 640x480 with 1 Axes>"
            ]
          },
          "metadata": {},
          "output_type": "display_data"
        }
      ],
      "source": [
        "df_feature_importance.plot(kind='bar',x='Feature',y='Importance')\n",
        "plt.savefig(f'{file_path}/features_importance.png', bbox_inches='tight')"
      ]
    }
  ],
  "metadata": {
    "accelerator": "GPU",
    "colab": {
      "name": "Data Practitioner Jupyter Notebook.ipynb",
      "provenance": [],
      "toc_visible": true
    },
    "interpreter": {
      "hash": "8b8334dab9339717f727a1deaf837b322d7a41c20d15cc86be99a8e69ceec8ce"
    },
    "kernelspec": {
      "display_name": "Python 3.8.12 64-bit ('3.8.12': pyenv)",
      "name": "python3"
    },
    "language_info": {
      "codemirror_mode": {
        "name": "ipython",
        "version": 3
      },
      "file_extension": ".py",
      "mimetype": "text/x-python",
      "name": "python",
      "nbconvert_exporter": "python",
      "pygments_lexer": "ipython3",
      "version": "3.8.18"
    },
    "orig_nbformat": 2
  },
  "nbformat": 4,
  "nbformat_minor": 2
}
