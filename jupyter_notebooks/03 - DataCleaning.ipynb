{
  "cells": [
    {
      "cell_type": "markdown",
      "metadata": {
        "id": "0aStgWSO0E0E"
      },
      "source": [
        "# **Data Cleaning Notebook**"
      ]
    },
    {
      "cell_type": "markdown",
      "metadata": {
        "id": "1eLEkw5O0ECa"
      },
      "source": [
        "## Objectives\n",
        "\n",
        "* Evaluate missing data\n",
        "* Clean data\n",
        "\n",
        "## Inputs\n",
        "\n",
        "* outputs/datasets/collection/BTCDaily.csv \n",
        "\n",
        "## Outputs\n",
        "\n",
        "* Generate cleaned Train and Test sets, both saved under outputs/datasets/cleaned \n",
        "\n",
        "## Conclusions\n",
        "\n",
        "* In case you have any additional comments that don't fit in the previous bullets, please state them here. \n"
      ]
    },
    {
      "cell_type": "markdown",
      "metadata": {
        "id": "9uWZXH9LwoQg"
      },
      "source": [
        "---"
      ]
    },
    {
      "cell_type": "markdown",
      "metadata": {
        "id": "cqP-UeN-z3i2"
      },
      "source": [
        "# Change working directory"
      ]
    },
    {
      "cell_type": "markdown",
      "metadata": {},
      "source": [
        "* We are assuming you will store the notebooks in a subfolder, therefore when running the notebook in the editor, you will need to change the working directory"
      ]
    },
    {
      "cell_type": "markdown",
      "metadata": {
        "id": "aOGIGS-uz3i2"
      },
      "source": [
        "We need to change the working directory from its current folder to its parent folder\n",
        "* We access the current directory with os.getcwd()"
      ]
    },
    {
      "cell_type": "code",
      "execution_count": 1,
      "metadata": {
        "id": "wZfF_j-Bz3i4",
        "outputId": "66943449-1436-4c3d-85c7-b85f9f78349b"
      },
      "outputs": [
        {
          "data": {
            "text/plain": [
              "'/workspace/bitcoin-forecast/jupyter_notebooks'"
            ]
          },
          "execution_count": 1,
          "metadata": {},
          "output_type": "execute_result"
        }
      ],
      "source": [
        "import os\n",
        "current_dir = os.getcwd()\n",
        "current_dir"
      ]
    },
    {
      "cell_type": "markdown",
      "metadata": {
        "id": "9MWW8E7lz3i7"
      },
      "source": [
        "We want to make the parent of the current directory the new current directory\n",
        "* os.path.dirname() gets the parent directory\n",
        "* os.chir() defines the new current directory"
      ]
    },
    {
      "cell_type": "code",
      "execution_count": 2,
      "metadata": {
        "id": "TwHsQRWjz3i9",
        "outputId": "86849db3-cd2f-4cc5-ebb8-2d0caafa1a2c"
      },
      "outputs": [
        {
          "name": "stdout",
          "output_type": "stream",
          "text": [
            "You set a new current directory\n"
          ]
        }
      ],
      "source": [
        "os.chdir(os.path.dirname(current_dir))\n",
        "print(\"You set a new current directory\")"
      ]
    },
    {
      "cell_type": "markdown",
      "metadata": {
        "id": "M_xPk_Ijz3i-"
      },
      "source": [
        "Confirm the new current directory"
      ]
    },
    {
      "cell_type": "code",
      "execution_count": 3,
      "metadata": {
        "id": "vz3S-_kjz3jA",
        "outputId": "00b79ae4-75d0-4a96-d193-ac9ef9847ea2"
      },
      "outputs": [
        {
          "data": {
            "text/plain": [
              "'/workspace/bitcoin-forecast'"
            ]
          },
          "execution_count": 3,
          "metadata": {},
          "output_type": "execute_result"
        }
      ],
      "source": [
        "current_dir = os.getcwd()\n",
        "current_dir"
      ]
    },
    {
      "cell_type": "markdown",
      "metadata": {
        "id": "-mavJ8DibrcQ"
      },
      "source": [
        "# Load data"
      ]
    },
    {
      "cell_type": "code",
      "execution_count": 4,
      "metadata": {},
      "outputs": [
        {
          "data": {
            "text/html": [
              "<div>\n",
              "<style scoped>\n",
              "    .dataframe tbody tr th:only-of-type {\n",
              "        vertical-align: middle;\n",
              "    }\n",
              "\n",
              "    .dataframe tbody tr th {\n",
              "        vertical-align: top;\n",
              "    }\n",
              "\n",
              "    .dataframe thead th {\n",
              "        text-align: right;\n",
              "    }\n",
              "</style>\n",
              "<table border=\"1\" class=\"dataframe\">\n",
              "  <thead>\n",
              "    <tr style=\"text-align: right;\">\n",
              "      <th></th>\n",
              "      <th>date</th>\n",
              "      <th>open</th>\n",
              "      <th>high</th>\n",
              "      <th>low</th>\n",
              "      <th>close</th>\n",
              "      <th>Volume BTC</th>\n",
              "      <th>Volume USD</th>\n",
              "    </tr>\n",
              "  </thead>\n",
              "  <tbody>\n",
              "    <tr>\n",
              "      <th>0</th>\n",
              "      <td>2014-11-28</td>\n",
              "      <td>363.59</td>\n",
              "      <td>381.34</td>\n",
              "      <td>360.57</td>\n",
              "      <td>376.28</td>\n",
              "      <td>3220878.18</td>\n",
              "      <td>8617.15</td>\n",
              "    </tr>\n",
              "    <tr>\n",
              "      <th>1</th>\n",
              "      <td>2014-11-29</td>\n",
              "      <td>376.42</td>\n",
              "      <td>386.60</td>\n",
              "      <td>372.25</td>\n",
              "      <td>376.72</td>\n",
              "      <td>2746157.05</td>\n",
              "      <td>7245.19</td>\n",
              "    </tr>\n",
              "    <tr>\n",
              "      <th>2</th>\n",
              "      <td>2014-11-30</td>\n",
              "      <td>376.57</td>\n",
              "      <td>381.99</td>\n",
              "      <td>373.32</td>\n",
              "      <td>373.34</td>\n",
              "      <td>1145566.61</td>\n",
              "      <td>3046.33</td>\n",
              "    </tr>\n",
              "    <tr>\n",
              "      <th>3</th>\n",
              "      <td>2014-12-01</td>\n",
              "      <td>376.40</td>\n",
              "      <td>382.31</td>\n",
              "      <td>373.03</td>\n",
              "      <td>378.39</td>\n",
              "      <td>2520662.37</td>\n",
              "      <td>6660.56</td>\n",
              "    </tr>\n",
              "    <tr>\n",
              "      <th>4</th>\n",
              "      <td>2014-12-02</td>\n",
              "      <td>378.39</td>\n",
              "      <td>382.86</td>\n",
              "      <td>375.23</td>\n",
              "      <td>379.25</td>\n",
              "      <td>2593576.46</td>\n",
              "      <td>6832.53</td>\n",
              "    </tr>\n",
              "  </tbody>\n",
              "</table>\n",
              "</div>"
            ],
            "text/plain": [
              "         date    open    high     low   close  Volume BTC  Volume USD\n",
              "0  2014-11-28  363.59  381.34  360.57  376.28  3220878.18     8617.15\n",
              "1  2014-11-29  376.42  386.60  372.25  376.72  2746157.05     7245.19\n",
              "2  2014-11-30  376.57  381.99  373.32  373.34  1145566.61     3046.33\n",
              "3  2014-12-01  376.40  382.31  373.03  378.39  2520662.37     6660.56\n",
              "4  2014-12-02  378.39  382.86  375.23  379.25  2593576.46     6832.53"
            ]
          },
          "execution_count": 4,
          "metadata": {},
          "output_type": "execute_result"
        }
      ],
      "source": [
        "import pandas as pd\n",
        "df = (pd.read_csv(\"outputs/datasets/collection/BTCDaily.csv\"))\n",
        "df.head()"
      ]
    },
    {
      "cell_type": "markdown",
      "metadata": {},
      "source": [
        "Convert the 'date' variable to datetime format and set it as the index"
      ]
    },
    {
      "cell_type": "code",
      "execution_count": 7,
      "metadata": {},
      "outputs": [
        {
          "name": "stdout",
          "output_type": "stream",
          "text": [
            "<class 'pandas.core.frame.DataFrame'>\n",
            "RangeIndex: 2651 entries, 0 to 2650\n",
            "Data columns (total 7 columns):\n",
            " #   Column      Non-Null Count  Dtype         \n",
            "---  ------      --------------  -----         \n",
            " 0   date        2651 non-null   datetime64[ns]\n",
            " 1   open        2651 non-null   float64       \n",
            " 2   high        2651 non-null   float64       \n",
            " 3   low         2651 non-null   float64       \n",
            " 4   close       2651 non-null   float64       \n",
            " 5   Volume BTC  2651 non-null   float64       \n",
            " 6   Volume USD  2651 non-null   float64       \n",
            "dtypes: datetime64[ns](1), float64(6)\n",
            "memory usage: 145.1 KB\n"
          ]
        },
        {
          "data": {
            "text/html": [
              "<div>\n",
              "<style scoped>\n",
              "    .dataframe tbody tr th:only-of-type {\n",
              "        vertical-align: middle;\n",
              "    }\n",
              "\n",
              "    .dataframe tbody tr th {\n",
              "        vertical-align: top;\n",
              "    }\n",
              "\n",
              "    .dataframe thead th {\n",
              "        text-align: right;\n",
              "    }\n",
              "</style>\n",
              "<table border=\"1\" class=\"dataframe\">\n",
              "  <thead>\n",
              "    <tr style=\"text-align: right;\">\n",
              "      <th></th>\n",
              "      <th>open</th>\n",
              "      <th>high</th>\n",
              "      <th>low</th>\n",
              "      <th>close</th>\n",
              "      <th>Volume BTC</th>\n",
              "      <th>Volume USD</th>\n",
              "    </tr>\n",
              "    <tr>\n",
              "      <th>date</th>\n",
              "      <th></th>\n",
              "      <th></th>\n",
              "      <th></th>\n",
              "      <th></th>\n",
              "      <th></th>\n",
              "      <th></th>\n",
              "    </tr>\n",
              "  </thead>\n",
              "  <tbody>\n",
              "    <tr>\n",
              "      <th>2014-11-28</th>\n",
              "      <td>363.59</td>\n",
              "      <td>381.34</td>\n",
              "      <td>360.57</td>\n",
              "      <td>376.28</td>\n",
              "      <td>3220878.18</td>\n",
              "      <td>8617.15</td>\n",
              "    </tr>\n",
              "    <tr>\n",
              "      <th>2014-11-29</th>\n",
              "      <td>376.42</td>\n",
              "      <td>386.60</td>\n",
              "      <td>372.25</td>\n",
              "      <td>376.72</td>\n",
              "      <td>2746157.05</td>\n",
              "      <td>7245.19</td>\n",
              "    </tr>\n",
              "    <tr>\n",
              "      <th>2014-11-30</th>\n",
              "      <td>376.57</td>\n",
              "      <td>381.99</td>\n",
              "      <td>373.32</td>\n",
              "      <td>373.34</td>\n",
              "      <td>1145566.61</td>\n",
              "      <td>3046.33</td>\n",
              "    </tr>\n",
              "    <tr>\n",
              "      <th>2014-12-01</th>\n",
              "      <td>376.40</td>\n",
              "      <td>382.31</td>\n",
              "      <td>373.03</td>\n",
              "      <td>378.39</td>\n",
              "      <td>2520662.37</td>\n",
              "      <td>6660.56</td>\n",
              "    </tr>\n",
              "    <tr>\n",
              "      <th>2014-12-02</th>\n",
              "      <td>378.39</td>\n",
              "      <td>382.86</td>\n",
              "      <td>375.23</td>\n",
              "      <td>379.25</td>\n",
              "      <td>2593576.46</td>\n",
              "      <td>6832.53</td>\n",
              "    </tr>\n",
              "  </tbody>\n",
              "</table>\n",
              "</div>"
            ],
            "text/plain": [
              "              open    high     low   close  Volume BTC  Volume USD\n",
              "date                                                              \n",
              "2014-11-28  363.59  381.34  360.57  376.28  3220878.18     8617.15\n",
              "2014-11-29  376.42  386.60  372.25  376.72  2746157.05     7245.19\n",
              "2014-11-30  376.57  381.99  373.32  373.34  1145566.61     3046.33\n",
              "2014-12-01  376.40  382.31  373.03  378.39  2520662.37     6660.56\n",
              "2014-12-02  378.39  382.86  375.23  379.25  2593576.46     6832.53"
            ]
          },
          "execution_count": 7,
          "metadata": {},
          "output_type": "execute_result"
        }
      ],
      "source": [
        "df['date'] = pd.to_datetime(df['date'], format='%Y-%m-%d')\n",
        "df.info()\n",
        "df.set_index('date', inplace=True)\n",
        "df.head()"
      ]
    },
    {
      "cell_type": "markdown",
      "metadata": {
        "id": "uFQo3ycuO-v6"
      },
      "source": [
        "# Data Exploration"
      ]
    },
    {
      "cell_type": "code",
      "execution_count": 8,
      "metadata": {},
      "outputs": [
        {
          "data": {
            "text/html": [
              "<div>\n",
              "<style scoped>\n",
              "    .dataframe tbody tr th:only-of-type {\n",
              "        vertical-align: middle;\n",
              "    }\n",
              "\n",
              "    .dataframe tbody tr th {\n",
              "        vertical-align: top;\n",
              "    }\n",
              "\n",
              "    .dataframe thead th {\n",
              "        text-align: right;\n",
              "    }\n",
              "</style>\n",
              "<table border=\"1\" class=\"dataframe\">\n",
              "  <thead>\n",
              "    <tr style=\"text-align: right;\">\n",
              "      <th></th>\n",
              "      <th>open</th>\n",
              "      <th>high</th>\n",
              "      <th>low</th>\n",
              "      <th>close</th>\n",
              "      <th>Volume BTC</th>\n",
              "      <th>Volume USD</th>\n",
              "    </tr>\n",
              "  </thead>\n",
              "  <tbody>\n",
              "    <tr>\n",
              "      <th>count</th>\n",
              "      <td>2651.000000</td>\n",
              "      <td>2651.000000</td>\n",
              "      <td>2651.000000</td>\n",
              "      <td>2651.000000</td>\n",
              "      <td>2.651000e+03</td>\n",
              "      <td>2.651000e+03</td>\n",
              "    </tr>\n",
              "    <tr>\n",
              "      <th>mean</th>\n",
              "      <td>11693.189332</td>\n",
              "      <td>12038.562912</td>\n",
              "      <td>11296.539461</td>\n",
              "      <td>11709.326213</td>\n",
              "      <td>1.330041e+07</td>\n",
              "      <td>6.099369e+07</td>\n",
              "    </tr>\n",
              "    <tr>\n",
              "      <th>std</th>\n",
              "      <td>16272.554746</td>\n",
              "      <td>16739.237000</td>\n",
              "      <td>15718.297511</td>\n",
              "      <td>16282.908704</td>\n",
              "      <td>4.715366e+07</td>\n",
              "      <td>1.072838e+08</td>\n",
              "    </tr>\n",
              "    <tr>\n",
              "      <th>min</th>\n",
              "      <td>162.000000</td>\n",
              "      <td>212.840000</td>\n",
              "      <td>152.400000</td>\n",
              "      <td>162.000000</td>\n",
              "      <td>0.000000e+00</td>\n",
              "      <td>0.000000e+00</td>\n",
              "    </tr>\n",
              "    <tr>\n",
              "      <th>25%</th>\n",
              "      <td>654.680000</td>\n",
              "      <td>664.460000</td>\n",
              "      <td>640.050000</td>\n",
              "      <td>654.370000</td>\n",
              "      <td>5.357883e+03</td>\n",
              "      <td>9.516170e+03</td>\n",
              "    </tr>\n",
              "    <tr>\n",
              "      <th>50%</th>\n",
              "      <td>6408.950000</td>\n",
              "      <td>6540.000000</td>\n",
              "      <td>6312.000000</td>\n",
              "      <td>6407.770000</td>\n",
              "      <td>1.503310e+04</td>\n",
              "      <td>2.288982e+07</td>\n",
              "    </tr>\n",
              "    <tr>\n",
              "      <th>75%</th>\n",
              "      <td>10708.620000</td>\n",
              "      <td>10956.240000</td>\n",
              "      <td>10303.755000</td>\n",
              "      <td>10726.425000</td>\n",
              "      <td>3.435336e+06</td>\n",
              "      <td>8.018383e+07</td>\n",
              "    </tr>\n",
              "    <tr>\n",
              "      <th>max</th>\n",
              "      <td>67547.490000</td>\n",
              "      <td>69000.000000</td>\n",
              "      <td>66250.000000</td>\n",
              "      <td>67559.000000</td>\n",
              "      <td>7.723295e+08</td>\n",
              "      <td>1.446125e+09</td>\n",
              "    </tr>\n",
              "  </tbody>\n",
              "</table>\n",
              "</div>"
            ],
            "text/plain": [
              "               open          high           low         close    Volume BTC  \\\n",
              "count   2651.000000   2651.000000   2651.000000   2651.000000  2.651000e+03   \n",
              "mean   11693.189332  12038.562912  11296.539461  11709.326213  1.330041e+07   \n",
              "std    16272.554746  16739.237000  15718.297511  16282.908704  4.715366e+07   \n",
              "min      162.000000    212.840000    152.400000    162.000000  0.000000e+00   \n",
              "25%      654.680000    664.460000    640.050000    654.370000  5.357883e+03   \n",
              "50%     6408.950000   6540.000000   6312.000000   6407.770000  1.503310e+04   \n",
              "75%    10708.620000  10956.240000  10303.755000  10726.425000  3.435336e+06   \n",
              "max    67547.490000  69000.000000  66250.000000  67559.000000  7.723295e+08   \n",
              "\n",
              "         Volume USD  \n",
              "count  2.651000e+03  \n",
              "mean   6.099369e+07  \n",
              "std    1.072838e+08  \n",
              "min    0.000000e+00  \n",
              "25%    9.516170e+03  \n",
              "50%    2.288982e+07  \n",
              "75%    8.018383e+07  \n",
              "max    1.446125e+09  "
            ]
          },
          "execution_count": 8,
          "metadata": {},
          "output_type": "execute_result"
        }
      ],
      "source": [
        "df.describe()"
      ]
    },
    {
      "cell_type": "markdown",
      "metadata": {
        "id": "ltNetd085qHf"
      },
      "source": [
        "# Push files to Repo"
      ]
    },
    {
      "cell_type": "markdown",
      "metadata": {},
      "source": [
        "* In case you don't need to push files to Repo, you may replace this section with \"Conclusions and Next Steps\" and state your conclusions and next steps."
      ]
    },
    {
      "cell_type": "code",
      "execution_count": null,
      "metadata": {
        "id": "aKlnIozA4eQO",
        "outputId": "fd09bc1f-adb1-4511-f6ce-492a6af570c0"
      },
      "outputs": [],
      "source": [
        "import os\n",
        "try:\n",
        "  # create here your folder\n",
        "  # os.makedirs(name='')\n",
        "except Exception as e:\n",
        "  print(e)\n"
      ]
    }
  ],
  "metadata": {
    "accelerator": "GPU",
    "colab": {
      "name": "Data Practitioner Jupyter Notebook.ipynb",
      "provenance": [],
      "toc_visible": true
    },
    "interpreter": {
      "hash": "8b8334dab9339717f727a1deaf837b322d7a41c20d15cc86be99a8e69ceec8ce"
    },
    "kernelspec": {
      "display_name": "Python 3.8.12 64-bit ('3.8.12': pyenv)",
      "name": "python3"
    },
    "language_info": {
      "codemirror_mode": {
        "name": "ipython",
        "version": 3
      },
      "file_extension": ".py",
      "mimetype": "text/x-python",
      "name": "python",
      "nbconvert_exporter": "python",
      "pygments_lexer": "ipython3",
      "version": "3.8.18"
    },
    "orig_nbformat": 2
  },
  "nbformat": 4,
  "nbformat_minor": 2
}
